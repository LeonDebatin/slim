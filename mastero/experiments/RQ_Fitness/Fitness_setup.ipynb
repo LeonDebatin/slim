{
 "cells": [
  {
   "cell_type": "code",
   "execution_count": 1,
   "metadata": {},
   "outputs": [],
   "source": [
    "# how does inflation/deflation rate effect the results?"
   ]
  },
  {
   "cell_type": "code",
   "execution_count": 2,
   "metadata": {},
   "outputs": [],
   "source": [
    "import sys\n",
    "import os\n",
    "sys.path.insert(0, os.path.abspath(\"..\"))\n",
    "import copy\n",
    "\n",
    "from monte_carlo import MonteCarlo\n",
    "from experiment import Experiment\n",
    "from basic_model_config import *\n",
    "from utils import fill_config"
   ]
  },
  {
   "cell_type": "code",
   "execution_count": 3,
   "metadata": {},
   "outputs": [
    {
     "name": "stdout",
     "output_type": "stream",
     "text": [
      "gsgp f1_score False 5\n",
      "1\n"
     ]
    }
   ],
   "source": [
    "import copy\n",
    "rq_configs = []\n",
    "base_configs = [basic_model_config_gsgp] #, basic_model_config_slim_mulsig2, basic_model_config_slim_plussig2\n",
    "\n",
    "for baseconfig in base_configs:\n",
    "\n",
    "    for ff in ['f1_score']:\n",
    "        if ff == 'sigmoid_rmse':\n",
    "            minimization = True\n",
    "        elif ff == 'weighted_sigmoid_rmse':\n",
    "            minimization = True\n",
    "        else:\n",
    "            minimization = False\n",
    "        \n",
    "        for ms_upper in [5]:\n",
    "            config = copy.deepcopy(baseconfig)  # Fresh copy for each function\n",
    "            config = fill_config(config, scaling = True, oversampling= False, fitness_function=ff, minimization=minimization, inflation_rate=None,  ms_upper=ms_upper)\n",
    "            rq_configs.append(config)\n",
    "\n",
    "for config in rq_configs:\n",
    "    print(config['name'],  config['config']['fitness_function'], config['config']['minimization'], config['config']['ms_upper'])\n",
    "\n",
    "n_configs = len(rq_configs)\n",
    "print(n_configs)\n",
    "with open(\"n_configs.txt\", \"w\") as f:\n",
    "    f.write(f\"{n_configs}\")"
   ]
  },
  {
   "cell_type": "code",
   "execution_count": 4,
   "metadata": {},
   "outputs": [
    {
     "name": "stdout",
     "output_type": "stream",
     "text": [
      "Results are being logged in the following path:  ../../data/results/RQ_Fitness_Wilt_F1/wilt\n",
      "Running gsgp on wilt...\n",
      "Run 1 - Accuracy: 0.987 | 0.983 - ROC: 0.889 | 0.871 - F1: 0.606 | 0.45 - RMSE: 0.114 | 0.129 - Weighted RMSE: 0.466 | 0.543\n",
      "Run 2 - Accuracy: 0.998 | 0.995 - ROC: 0.99 | 0.968 - F1: 0.95 | 0.837 - RMSE: 0.051 | 0.073 - Weighted RMSE: 0.218 | 0.311\n",
      "Run 3 - Accuracy: 0.999 | 0.993 - ROC: 0.999 | 0.995 - F1: 0.971 | 0.8 - RMSE: 0.049 | 0.073 - Weighted RMSE: 0.17 | 0.239\n",
      "Run 4 - Accuracy: 0.999 | 0.992 - ROC: 0.999 | 0.993 - F1: 0.962 | 0.762 - RMSE: 0.052 | 0.074 - Weighted RMSE: 0.147 | 0.316\n",
      "Run 5 - Accuracy: 0.998 | 0.995 - ROC: 0.979 | 0.994 - F1: 0.939 | 0.829 - RMSE: 0.053 | 0.064 - Weighted RMSE: 0.27 | 0.27\n",
      "Run 6 - Accuracy: 0.999 | 0.995 - ROC: 0.993 | 0.997 - F1: 0.961 | 0.864 - RMSE: 0.042 | 0.066 - Weighted RMSE: 0.189 | 0.253\n",
      "Run 7 - Accuracy: 0.998 | 0.996 - ROC: 0.975 | 0.994 - F1: 0.931 | 0.889 - RMSE: 0.057 | 0.063 - Weighted RMSE: 0.222 | 0.214\n",
      "Run 8 - Accuracy: 0.999 | 0.993 - ROC: 0.994 | 0.943 - F1: 0.96 | 0.743 - RMSE: 0.044 | 0.081 - Weighted RMSE: 0.217 | 0.433\n",
      "Run 9 - Accuracy: 0.999 | 0.992 - ROC: 0.99 | 0.99 - F1: 0.96 | 0.783 - RMSE: 0.062 | 0.082 - Weighted RMSE: 0.214 | 0.276\n",
      "Run 10 - Accuracy: 0.999 | 0.992 - ROC: 1.0 | 0.981 - F1: 0.981 | 0.756 - RMSE: 0.042 | 0.085 - Weighted RMSE: 0.088 | 0.315\n",
      "Run 11 - Accuracy: 0.999 | 0.992 - ROC: 0.994 | 0.987 - F1: 0.96 | 0.783 - RMSE: 0.046 | 0.069 - Weighted RMSE: 0.204 | 0.243\n",
      "Run 12 - Accuracy: 0.998 | 0.995 - ROC: 0.984 | 0.988 - F1: 0.942 | 0.851 - RMSE: 0.065 | 0.067 - Weighted RMSE: 0.209 | 0.203\n",
      "Run 13 - Accuracy: 0.999 | 0.995 - ROC: 0.996 | 0.988 - F1: 0.971 | 0.857 - RMSE: 0.038 | 0.062 - Weighted RMSE: 0.158 | 0.271\n",
      "Run 14 - Accuracy: 0.993 | 0.988 - ROC: 0.881 | 0.889 - F1: 0.764 | 0.6 - RMSE: 0.084 | 0.109 - Weighted RMSE: 0.417 | 0.476\n",
      "Run 15 - Accuracy: 0.999 | 0.993 - ROC: 0.991 | 0.968 - F1: 0.962 | 0.8 - RMSE: 0.042 | 0.074 - Weighted RMSE: 0.152 | 0.294\n",
      "Run 16 - Accuracy: 0.999 | 0.995 - ROC: 0.991 | 0.983 - F1: 0.97 | 0.875 - RMSE: 0.04 | 0.069 - Weighted RMSE: 0.195 | 0.161\n",
      "Run 17 - Accuracy: 0.998 | 0.991 - ROC: 0.971 | 0.992 - F1: 0.932 | 0.727 - RMSE: 0.053 | 0.091 - Weighted RMSE: 0.213 | 0.358\n",
      "Run 18 - Accuracy: 0.998 | 0.994 - ROC: 0.995 | 0.998 - F1: 0.95 | 0.84 - RMSE: 0.047 | 0.071 - Weighted RMSE: 0.207 | 0.148\n",
      "Run 19 - Accuracy: 0.996 | 0.992 - ROC: 0.949 | 0.98 - F1: 0.869 | 0.756 - RMSE: 0.069 | 0.09 - Weighted RMSE: 0.297 | 0.342\n",
      "Run 20 - Accuracy: 0.994 | 0.992 - ROC: 0.966 | 0.983 - F1: 0.824 | 0.766 - RMSE: 0.209 | 0.212 - Weighted RMSE: 0.335 | 0.309\n",
      "Run 21 - Accuracy: 0.999 | 0.996 - ROC: 0.998 | 0.978 - F1: 0.962 | 0.889 - RMSE: 0.047 | 0.053 - Weighted RMSE: 0.165 | 0.205\n",
      "Run 22 - Accuracy: 0.998 | 0.996 - ROC: 0.998 | 0.984 - F1: 0.951 | 0.878 - RMSE: 0.046 | 0.057 - Weighted RMSE: 0.188 | 0.265\n",
      "Run 23 - Accuracy: 0.998 | 0.994 - ROC: 0.998 | 0.97 - F1: 0.95 | 0.8 - RMSE: 0.046 | 0.074 - Weighted RMSE: 0.212 | 0.33\n",
      "Run 24 - Accuracy: 0.986 | 0.983 - ROC: 0.947 | 0.99 - F1: 0.696 | 0.607 - RMSE: 0.12 | 0.122 - Weighted RMSE: 0.217 | 0.31\n",
      "Run 25 - Accuracy: 0.999 | 0.994 - ROC: 1.0 | 0.998 - F1: 0.981 | 0.826 - RMSE: 0.035 | 0.071 - Weighted RMSE: 0.126 | 0.25\n",
      "Run 26 - Accuracy: 0.99 | 0.982 - ROC: 0.94 | 0.894 - F1: 0.732 | 0.52 - RMSE: 0.102 | 0.134 - Weighted RMSE: 0.337 | 0.427\n",
      "Run 27 - Accuracy: 0.999 | 0.998 - ROC: 0.994 | 0.993 - F1: 0.962 | 0.927 - RMSE: 0.039 | 0.055 - Weighted RMSE: 0.148 | 0.278\n",
      "Run 28 - Accuracy: 0.999 | 0.996 - ROC: 0.998 | 0.981 - F1: 0.961 | 0.889 - RMSE: 0.047 | 0.063 - Weighted RMSE: 0.189 | 0.219\n",
      "Run 29 - Accuracy: 0.998 | 0.996 - ROC: 0.996 | 0.996 - F1: 0.942 | 0.889 - RMSE: 0.05 | 0.059 - Weighted RMSE: 0.185 | 0.229\n",
      "Run 30 - Accuracy: 0.994 | 0.988 - ROC: 0.921 | 0.982 - F1: 0.839 | 0.694 - RMSE: 0.081 | 0.104 - Weighted RMSE: 0.248 | 0.339\n"
     ]
    }
   ],
   "source": [
    "from monte_carlo import MonteCarlo\n",
    "MonteCarlo(\n",
    "                experiment_name=\"RQ_Fitness_Wilt_F1\",\n",
    "                dataset_name=\"wilt\",\n",
    "                data_filepath=\"../../data/\",\n",
    "                model_configs=rq_configs,\n",
    "                n_runs=30, \n",
    "                log=True, \n",
    "                verbose = True,\n",
    "                config_counter_start= 15\n",
    "                ).run()"
   ]
  },
  {
   "cell_type": "code",
   "execution_count": 5,
   "metadata": {},
   "outputs": [],
   "source": [
    "# exp1 = Experiment(\n",
    "#                 \"fitness_test\",\n",
    "#                 \"../../data/\",\n",
    "#                 rq_configs,\n",
    "#                 n_runs=30, \n",
    "#                 log=True, \n",
    "#                 verbose = True,\n",
    "#                 config_counter_start=0\n",
    "#                 )\n",
    "# exp1.run()"
   ]
  }
 ],
 "metadata": {
  "kernelspec": {
   "display_name": "Python 3",
   "language": "python",
   "name": "python3"
  },
  "language_info": {
   "codemirror_mode": {
    "name": "ipython",
    "version": 3
   },
   "file_extension": ".py",
   "mimetype": "text/x-python",
   "name": "python",
   "nbconvert_exporter": "python",
   "pygments_lexer": "ipython3",
   "version": "3.11.4"
  }
 },
 "nbformat": 4,
 "nbformat_minor": 2
}
