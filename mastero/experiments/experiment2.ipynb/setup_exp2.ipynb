{
 "cells": [
  {
   "cell_type": "code",
   "execution_count": 1,
   "metadata": {},
   "outputs": [],
   "source": [
    "import sys\n",
    "import os\n",
    "sys.path.insert(0, os.path.abspath(\"..\"))\n",
    "import copy\n",
    "\n",
    "from monte_carlo import MonteCarlo\n",
    "from experiment import Experiment\n",
    "from basic_model_config import *\n",
    "from utils import fill_config"
   ]
  },
  {
   "cell_type": "code",
   "execution_count": null,
   "metadata": {},
   "outputs": [
    {
     "name": "stdout",
     "output_type": "stream",
     "text": [
      "SLIM+ABS Fitness_Function f1_score p_inflate 0.25\n",
      "SLIM+ABS Fitness_Function f1_score p_inflate 0.75\n",
      "SLIM+SIG1 Fitness_Function f1_score p_inflate 0.25\n",
      "SLIM+SIG1 Fitness_Function f1_score p_inflate 0.75\n",
      "SLIM*SIG1 Fitness_Function f1_score p_inflate 0.25\n",
      "SLIM*SIG1 Fitness_Function f1_score p_inflate 0.75\n",
      "SLIM+SIG2 Fitness_Function f1_score p_inflate 0.25\n",
      "SLIM+SIG2 Fitness_Function f1_score p_inflate 0.75\n",
      "SLIM*ABS Fitness_Function f1_score p_inflate 0.25\n",
      "SLIM*ABS Fitness_Function f1_score p_inflate 0.75\n",
      "SLIM*SIG2 Fitness_Function f1_score p_inflate 0.25\n",
      "SLIM*SIG2 Fitness_Function f1_score p_inflate 0.75\n",
      "gsgp Fitness_Function sigmoid_rmse\n",
      "gp Fitness_Function sigmoid_rmse\n"
     ]
    }
   ],
   "source": [
    "import copy\n",
    "\n",
    "exp2_configs = []\n",
    "base_configs = [ basic_model_config_slim_plusabs, \n",
    "                basic_model_config_slim_plussig1, \n",
    "                basic_model_config_slim_mulsig1,\n",
    "                basic_model_config_slim_plussig2,\n",
    "                basic_model_config_slim_mulabs,\n",
    "                basic_model_config_slim_mulsig2,\n",
    "                basic_model_config_gsgp,\n",
    "                basic_model_config_gp]\n",
    "\n",
    "for baseconfig in base_configs:\n",
    "    \n",
    "    if baseconfig['name'] == 'slim':\n",
    "        config = copy.deepcopy(baseconfig)  # Ensure fresh copy\n",
    "        config = fill_config(config, oversampling=False, fitness_function='f1_score', minimization=False)\n",
    "        for p_inflate in [0.25,0.5,0.75]:\n",
    "            config['config']['p_inflate'] = p_inflate\n",
    "            exp2_configs.append(copy.deepcopy(config))\n",
    "    \n",
    "    else:\n",
    "        config = copy.deepcopy(baseconfig)  # Ensure fresh copy\n",
    "        config = fill_config(config, oversampling=False, fitness_function='sigmoid_rmse', minimization=False)\n",
    "        exp2_configs.append(config)\n",
    "        \n",
    "\n",
    "\n",
    "# Print results to verify\n",
    "for config in exp2_configs:\n",
    "    if 'slim_version' in config['config']:\n",
    "        print(config['config']['slim_version'], 'Fitness_Function', config['config']['fitness_function'], 'p_inflate', config['config']['p_inflate'])\n",
    "    else:\n",
    "        print(config['name'], 'Fitness_Function', config['config']['fitness_function'])\n"
   ]
  },
  {
   "cell_type": "code",
   "execution_count": null,
   "metadata": {},
   "outputs": [],
   "source": []
  },
  {
   "cell_type": "code",
   "execution_count": null,
   "metadata": {},
   "outputs": [
    {
     "name": "stdout",
     "output_type": "stream",
     "text": [
      "Results are being logged in the following path:  ../../data/results/experiment2/blood\n",
      "Run 1 - Accuracy: 0.727 | 0.711 - ROC: 0.735 | 0.728 - F1: 0.522 | 0.488\n",
      "Run 2 - Accuracy: 0.577 | 0.644 - ROC: 0.664 | 0.699 - F1: 0.478 | 0.54\n",
      "Run 1 - Accuracy: 0.702 | 0.68 - ROC: 0.724 | 0.702 - F1: 0.521 | 0.478\n",
      "Run 2 - Accuracy: 0.577 | 0.644 - ROC: 0.664 | 0.699 - F1: 0.478 | 0.54\n",
      "Run 1 - Accuracy: 0.707 | 0.689 - ROC: 0.703 | 0.672 - F1: 0.523 | 0.478\n",
      "Run 2 - Accuracy: 0.577 | 0.644 - ROC: 0.665 | 0.699 - F1: 0.478 | 0.54\n",
      "Run 1 - Accuracy: 0.631 | 0.644 - ROC: 0.684 | 0.675 - F1: 0.499 | 0.512\n",
      "Run 2 - Accuracy: 0.577 | 0.644 - ROC: 0.664 | 0.699 - F1: 0.478 | 0.54\n",
      "Run 1 - Accuracy: 0.444 | 0.382 - ROC: 0.563 | 0.493 - F1: 0.428 | 0.382\n",
      "Run 2 - Accuracy: 0.576 | 0.644 - ROC: 0.664 | 0.699 - F1: 0.476 | 0.54\n",
      "Run 1 - Accuracy: 0.444 | 0.382 - ROC: 0.563 | 0.493 - F1: 0.428 | 0.382\n"
     ]
    }
   ],
   "source": [
    "exp2 = Experiment(\n",
    "                \"experiment2\",\n",
    "                \"../../data/\",\n",
    "                exp2_configs,\n",
    "                n_runs=10, \n",
    "                log=True, \n",
    "                verbose = True\n",
    "                )\n",
    "exp2.run()"
   ]
  }
 ],
 "metadata": {
  "kernelspec": {
   "display_name": "Python 3",
   "language": "python",
   "name": "python3"
  },
  "language_info": {
   "codemirror_mode": {
    "name": "ipython",
    "version": 3
   },
   "file_extension": ".py",
   "mimetype": "text/x-python",
   "name": "python",
   "nbconvert_exporter": "python",
   "pygments_lexer": "ipython3",
   "version": "3.11.4"
  }
 },
 "nbformat": 4,
 "nbformat_minor": 2
}
