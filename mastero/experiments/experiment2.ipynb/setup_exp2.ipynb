{
 "cells": [
  {
   "cell_type": "code",
   "execution_count": 1,
   "metadata": {},
   "outputs": [],
   "source": [
    "import sys\n",
    "import os\n",
    "sys.path.insert(0, os.path.abspath(\"..\"))\n",
    "import copy\n",
    "\n",
    "from monte_carlo import MonteCarlo\n",
    "from experiment import Experiment\n",
    "from basic_model_config import *\n",
    "from utils import fill_config"
   ]
  },
  {
   "cell_type": "code",
   "execution_count": 2,
   "metadata": {},
   "outputs": [
    {
     "name": "stdout",
     "output_type": "stream",
     "text": [
      "gsgp Oversampling:  False Fitness_Function f1_score\n",
      "SLIM+ABS Oversampling:  False Fitness_Function f1_score\n",
      "SLIM+SIG1 Oversampling:  False Fitness_Function f1_score\n",
      "SLIM*SIG1 Oversampling:  False Fitness_Function f1_score\n",
      "SLIM+SIG2 Oversampling:  False Fitness_Function f1_score\n"
     ]
    }
   ],
   "source": [
    "import copy\n",
    "\n",
    "exp2_configs = []\n",
    "base_configs = [basic_model_config_gsgp, basic_model_config_slim_plusabs, \n",
    "                basic_model_config_slim_plussig1, basic_model_config_slim_mulsig1,\n",
    "                basic_model_config_slim_plussig2]\n",
    "\n",
    "for baseconfig in base_configs:\n",
    "    config = copy.deepcopy(baseconfig)  # Ensure fresh copy\n",
    "    config = fill_config(config, oversampling=False, fitness_function='f1_score', minimization=False)\n",
    "    exp2_configs.append(config)\n",
    "        \n",
    "\n",
    "\n",
    "# Print results to verify\n",
    "for config in exp2_configs:\n",
    "    if 'slim_version' in config['config']:\n",
    "        print(config['config']['slim_version'], 'Oversampling: ', config['oversampling'], 'Fitness_Function', config['config']['fitness_function'])\n",
    "    else:\n",
    "        print(config['name'], 'Oversampling: ', config['oversampling'], 'Fitness_Function', config['config']['fitness_function'])\n"
   ]
  },
  {
   "cell_type": "code",
   "execution_count": null,
   "metadata": {},
   "outputs": [
    {
     "name": "stdout",
     "output_type": "stream",
     "text": [
      "Results are being logged in the following path:  ../../data/results/experiment6/blood\n",
      "Run 1 - Accuracy: 0.78 | 0.756 - ROC: 0.748 | 0.765 - F1: 0.566 | 0.53\n",
      "Run 2 - Accuracy: 0.577 | 0.644 - ROC: 0.664 | 0.699 - F1: 0.478 | 0.54\n",
      "Run 3 - Accuracy: 0.721 | 0.693 - ROC: 0.69 | 0.631 - F1: 0.532 | 0.448\n"
     ]
    }
   ],
   "source": [
    "exp2 = Experiment(\n",
    "                \"experiment6\",\n",
    "                \"../../data/\",\n",
    "                exp2_configs,\n",
    "                n_runs=10, \n",
    "                log=True, \n",
    "                verbose = True\n",
    "                )\n",
    "exp2.run()"
   ]
  }
 ],
 "metadata": {
  "kernelspec": {
   "display_name": "Python 3",
   "language": "python",
   "name": "python3"
  },
  "language_info": {
   "codemirror_mode": {
    "name": "ipython",
    "version": 3
   },
   "file_extension": ".py",
   "mimetype": "text/x-python",
   "name": "python",
   "nbconvert_exporter": "python",
   "pygments_lexer": "ipython3",
   "version": "3.13.2"
  }
 },
 "nbformat": 4,
 "nbformat_minor": 2
}
