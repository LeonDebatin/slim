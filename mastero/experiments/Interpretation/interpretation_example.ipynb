{
 "cells": [
  {
   "cell_type": "code",
   "execution_count": 1,
   "id": "9b392d08",
   "metadata": {},
   "outputs": [],
   "source": [
    "import sys\n",
    "import os\n",
    "import re\n",
    "sys.path.insert(0, os.path.abspath(\"..\"))\n",
    "from utils import *\n",
    "import pandas as pd\n",
    "from basic_model_config import *\n",
    "import copy\n",
    "# --- Required Configurations ---\n",
    "dataset_name = 'pc4'\n",
    "data_filepath = '../../data/'  # Ensure trailing slash\n",
    "model_config = copy.deepcopy(basic_model_config_slim_plussig2) \n",
    "#model_config = copy.deepcopy(basic_model_config_slim_plussig1)\n",
    "model_config['config']['log_path'] = 'interpretations/'  # Set log path for interpretations\n",
    "model_config['config']['seed'] = 2  # Enable verbose logging\n",
    "model_config['config']['verbose'] = True\n",
    "model_config = fill_config(model_config, scaling = True, oversampling= False, fitness_function='sigmoid_rmse', minimization=True, inflation_rate=0.1, ms_upper=10)\n",
    "# --- Load Data and Metadata ---\n",
    "data = pd.read_csv(f\"{data_filepath}data_prepared/{dataset_name}.csv\")\n",
    "data_info = load_and_adapt_data_info(f\"{data_filepath}data_info.csv\")\n",
    "train_indices = data_info.loc[data_info['name'] == dataset_name, 'train_indices'].values[0][0]\n",
    "test_indices = data_info.loc[data_info['name'] == dataset_name, 'test_indices'].values[0][0]\n",
    "categoricals = data_info.loc[data_info['name'] == dataset_name, 'categoricals'].values[0]\n",
    "\n",
    "# --- Prepare Train/Test Splits ---\n",
    "X_train, y_train, X_test, y_test = return_train_test(\n",
    "    df=data,\n",
    "    train_indices=train_indices,\n",
    "    test_indices=test_indices,\n",
    "    scaling=model_config['scaling'],\n",
    "    oversampling=model_config['oversampling'],\n",
    "    categoricals=categoricals\n",
    ")\n",
    "\n",
    "update_sample_weights(y_train, y_test)"
   ]
  },
  {
   "cell_type": "code",
   "execution_count": 2,
   "id": "1e9d9959",
   "metadata": {},
   "outputs": [
    {
     "data": {
      "text/plain": [
       "(torch.Size([940, 37]),\n",
       " torch.Size([404, 37]),\n",
       " torch.Size([940]),\n",
       " torch.Size([404]))"
      ]
     },
     "execution_count": 2,
     "metadata": {},
     "output_type": "execute_result"
    }
   ],
   "source": [
    "X_train.shape, X_test.shape, y_train.shape, y_test.shape"
   ]
  },
  {
   "cell_type": "code",
   "execution_count": 3,
   "id": "b8575c59",
   "metadata": {},
   "outputs": [
    {
     "data": {
      "text/html": [
       "<div>\n",
       "<style scoped>\n",
       "    .dataframe tbody tr th:only-of-type {\n",
       "        vertical-align: middle;\n",
       "    }\n",
       "\n",
       "    .dataframe tbody tr th {\n",
       "        vertical-align: top;\n",
       "    }\n",
       "\n",
       "    .dataframe thead th {\n",
       "        text-align: right;\n",
       "    }\n",
       "</style>\n",
       "<table border=\"1\" class=\"dataframe\">\n",
       "  <thead>\n",
       "    <tr style=\"text-align: right;\">\n",
       "      <th></th>\n",
       "      <th>LOC_BLANK</th>\n",
       "      <th>BRANCH_COUNT</th>\n",
       "      <th>CALL_PAIRS</th>\n",
       "      <th>LOC_CODE_AND_COMMENT</th>\n",
       "      <th>LOC_COMMENTS</th>\n",
       "      <th>CONDITION_COUNT</th>\n",
       "      <th>CYCLOMATIC_COMPLEXITY</th>\n",
       "      <th>CYCLOMATIC_DENSITY</th>\n",
       "      <th>DECISION_COUNT</th>\n",
       "      <th>DECISION_DENSITY</th>\n",
       "      <th>...</th>\n",
       "      <th>NODE_COUNT</th>\n",
       "      <th>NORMALIZED_CYLOMATIC_COMPLEXITY</th>\n",
       "      <th>NUM_OPERANDS</th>\n",
       "      <th>NUM_OPERATORS</th>\n",
       "      <th>NUM_UNIQUE_OPERANDS</th>\n",
       "      <th>NUM_UNIQUE_OPERATORS</th>\n",
       "      <th>NUMBER_OF_LINES</th>\n",
       "      <th>PERCENT_COMMENTS</th>\n",
       "      <th>LOC_TOTAL</th>\n",
       "      <th>target</th>\n",
       "    </tr>\n",
       "  </thead>\n",
       "  <tbody>\n",
       "    <tr>\n",
       "      <th>0</th>\n",
       "      <td>17.0</td>\n",
       "      <td>11.0</td>\n",
       "      <td>5.0</td>\n",
       "      <td>2.0</td>\n",
       "      <td>8.0</td>\n",
       "      <td>20.0</td>\n",
       "      <td>6.0</td>\n",
       "      <td>0.25</td>\n",
       "      <td>10.0</td>\n",
       "      <td>2.0</td>\n",
       "      <td>...</td>\n",
       "      <td>25.0</td>\n",
       "      <td>0.11</td>\n",
       "      <td>53.0</td>\n",
       "      <td>49.0</td>\n",
       "      <td>23.0</td>\n",
       "      <td>12.0</td>\n",
       "      <td>57.0</td>\n",
       "      <td>31.25</td>\n",
       "      <td>24.0</td>\n",
       "      <td>0</td>\n",
       "    </tr>\n",
       "    <tr>\n",
       "      <th>1</th>\n",
       "      <td>2.0</td>\n",
       "      <td>9.0</td>\n",
       "      <td>3.0</td>\n",
       "      <td>0.0</td>\n",
       "      <td>1.0</td>\n",
       "      <td>16.0</td>\n",
       "      <td>5.0</td>\n",
       "      <td>0.56</td>\n",
       "      <td>6.0</td>\n",
       "      <td>2.0</td>\n",
       "      <td>...</td>\n",
       "      <td>14.0</td>\n",
       "      <td>0.36</td>\n",
       "      <td>13.0</td>\n",
       "      <td>24.0</td>\n",
       "      <td>7.0</td>\n",
       "      <td>14.0</td>\n",
       "      <td>14.0</td>\n",
       "      <td>10.00</td>\n",
       "      <td>9.0</td>\n",
       "      <td>0</td>\n",
       "    </tr>\n",
       "    <tr>\n",
       "      <th>2</th>\n",
       "      <td>2.0</td>\n",
       "      <td>5.0</td>\n",
       "      <td>1.0</td>\n",
       "      <td>1.0</td>\n",
       "      <td>1.0</td>\n",
       "      <td>6.0</td>\n",
       "      <td>3.0</td>\n",
       "      <td>0.17</td>\n",
       "      <td>2.0</td>\n",
       "      <td>3.0</td>\n",
       "      <td>...</td>\n",
       "      <td>7.0</td>\n",
       "      <td>0.13</td>\n",
       "      <td>16.0</td>\n",
       "      <td>28.0</td>\n",
       "      <td>9.0</td>\n",
       "      <td>14.0</td>\n",
       "      <td>23.0</td>\n",
       "      <td>10.53</td>\n",
       "      <td>18.0</td>\n",
       "      <td>0</td>\n",
       "    </tr>\n",
       "    <tr>\n",
       "      <th>3</th>\n",
       "      <td>4.0</td>\n",
       "      <td>5.0</td>\n",
       "      <td>1.0</td>\n",
       "      <td>0.0</td>\n",
       "      <td>0.0</td>\n",
       "      <td>8.0</td>\n",
       "      <td>3.0</td>\n",
       "      <td>0.30</td>\n",
       "      <td>4.0</td>\n",
       "      <td>2.0</td>\n",
       "      <td>...</td>\n",
       "      <td>10.0</td>\n",
       "      <td>0.19</td>\n",
       "      <td>13.0</td>\n",
       "      <td>16.0</td>\n",
       "      <td>10.0</td>\n",
       "      <td>9.0</td>\n",
       "      <td>16.0</td>\n",
       "      <td>0.00</td>\n",
       "      <td>10.0</td>\n",
       "      <td>0</td>\n",
       "    </tr>\n",
       "    <tr>\n",
       "      <th>4</th>\n",
       "      <td>7.0</td>\n",
       "      <td>5.0</td>\n",
       "      <td>1.0</td>\n",
       "      <td>3.0</td>\n",
       "      <td>0.0</td>\n",
       "      <td>0.0</td>\n",
       "      <td>3.0</td>\n",
       "      <td>0.15</td>\n",
       "      <td>0.0</td>\n",
       "      <td>0.0</td>\n",
       "      <td>...</td>\n",
       "      <td>10.0</td>\n",
       "      <td>0.11</td>\n",
       "      <td>26.0</td>\n",
       "      <td>46.0</td>\n",
       "      <td>7.0</td>\n",
       "      <td>7.0</td>\n",
       "      <td>28.0</td>\n",
       "      <td>15.00</td>\n",
       "      <td>20.0</td>\n",
       "      <td>0</td>\n",
       "    </tr>\n",
       "    <tr>\n",
       "      <th>...</th>\n",
       "      <td>...</td>\n",
       "      <td>...</td>\n",
       "      <td>...</td>\n",
       "      <td>...</td>\n",
       "      <td>...</td>\n",
       "      <td>...</td>\n",
       "      <td>...</td>\n",
       "      <td>...</td>\n",
       "      <td>...</td>\n",
       "      <td>...</td>\n",
       "      <td>...</td>\n",
       "      <td>...</td>\n",
       "      <td>...</td>\n",
       "      <td>...</td>\n",
       "      <td>...</td>\n",
       "      <td>...</td>\n",
       "      <td>...</td>\n",
       "      <td>...</td>\n",
       "      <td>...</td>\n",
       "      <td>...</td>\n",
       "      <td>...</td>\n",
       "    </tr>\n",
       "    <tr>\n",
       "      <th>1339</th>\n",
       "      <td>2.0</td>\n",
       "      <td>1.0</td>\n",
       "      <td>1.0</td>\n",
       "      <td>0.0</td>\n",
       "      <td>0.0</td>\n",
       "      <td>0.0</td>\n",
       "      <td>1.0</td>\n",
       "      <td>0.14</td>\n",
       "      <td>0.0</td>\n",
       "      <td>0.0</td>\n",
       "      <td>...</td>\n",
       "      <td>3.0</td>\n",
       "      <td>0.09</td>\n",
       "      <td>8.0</td>\n",
       "      <td>15.0</td>\n",
       "      <td>5.0</td>\n",
       "      <td>8.0</td>\n",
       "      <td>11.0</td>\n",
       "      <td>0.00</td>\n",
       "      <td>7.0</td>\n",
       "      <td>0</td>\n",
       "    </tr>\n",
       "    <tr>\n",
       "      <th>1340</th>\n",
       "      <td>16.0</td>\n",
       "      <td>22.0</td>\n",
       "      <td>4.0</td>\n",
       "      <td>18.0</td>\n",
       "      <td>7.0</td>\n",
       "      <td>22.0</td>\n",
       "      <td>15.0</td>\n",
       "      <td>0.25</td>\n",
       "      <td>10.0</td>\n",
       "      <td>2.0</td>\n",
       "      <td>...</td>\n",
       "      <td>32.0</td>\n",
       "      <td>0.18</td>\n",
       "      <td>125.0</td>\n",
       "      <td>275.0</td>\n",
       "      <td>25.0</td>\n",
       "      <td>29.0</td>\n",
       "      <td>85.0</td>\n",
       "      <td>37.31</td>\n",
       "      <td>60.0</td>\n",
       "      <td>0</td>\n",
       "    </tr>\n",
       "    <tr>\n",
       "      <th>1341</th>\n",
       "      <td>12.0</td>\n",
       "      <td>3.0</td>\n",
       "      <td>8.0</td>\n",
       "      <td>0.0</td>\n",
       "      <td>6.0</td>\n",
       "      <td>4.0</td>\n",
       "      <td>2.0</td>\n",
       "      <td>0.11</td>\n",
       "      <td>2.0</td>\n",
       "      <td>2.0</td>\n",
       "      <td>...</td>\n",
       "      <td>14.0</td>\n",
       "      <td>0.05</td>\n",
       "      <td>28.0</td>\n",
       "      <td>40.0</td>\n",
       "      <td>19.0</td>\n",
       "      <td>13.0</td>\n",
       "      <td>39.0</td>\n",
       "      <td>24.00</td>\n",
       "      <td>19.0</td>\n",
       "      <td>0</td>\n",
       "    </tr>\n",
       "    <tr>\n",
       "      <th>1342</th>\n",
       "      <td>8.0</td>\n",
       "      <td>9.0</td>\n",
       "      <td>0.0</td>\n",
       "      <td>0.0</td>\n",
       "      <td>10.0</td>\n",
       "      <td>0.0</td>\n",
       "      <td>5.0</td>\n",
       "      <td>0.42</td>\n",
       "      <td>0.0</td>\n",
       "      <td>0.0</td>\n",
       "      <td>...</td>\n",
       "      <td>10.0</td>\n",
       "      <td>0.16</td>\n",
       "      <td>20.0</td>\n",
       "      <td>38.0</td>\n",
       "      <td>9.0</td>\n",
       "      <td>20.0</td>\n",
       "      <td>32.0</td>\n",
       "      <td>45.45</td>\n",
       "      <td>12.0</td>\n",
       "      <td>0</td>\n",
       "    </tr>\n",
       "    <tr>\n",
       "      <th>1343</th>\n",
       "      <td>4.0</td>\n",
       "      <td>1.0</td>\n",
       "      <td>1.0</td>\n",
       "      <td>0.0</td>\n",
       "      <td>1.0</td>\n",
       "      <td>0.0</td>\n",
       "      <td>1.0</td>\n",
       "      <td>0.25</td>\n",
       "      <td>0.0</td>\n",
       "      <td>0.0</td>\n",
       "      <td>...</td>\n",
       "      <td>3.0</td>\n",
       "      <td>0.09</td>\n",
       "      <td>8.0</td>\n",
       "      <td>18.0</td>\n",
       "      <td>7.0</td>\n",
       "      <td>11.0</td>\n",
       "      <td>11.0</td>\n",
       "      <td>20.00</td>\n",
       "      <td>4.0</td>\n",
       "      <td>0</td>\n",
       "    </tr>\n",
       "  </tbody>\n",
       "</table>\n",
       "<p>1344 rows × 38 columns</p>\n",
       "</div>"
      ],
      "text/plain": [
       "      LOC_BLANK  BRANCH_COUNT  CALL_PAIRS  LOC_CODE_AND_COMMENT  LOC_COMMENTS  \\\n",
       "0          17.0          11.0         5.0                   2.0           8.0   \n",
       "1           2.0           9.0         3.0                   0.0           1.0   \n",
       "2           2.0           5.0         1.0                   1.0           1.0   \n",
       "3           4.0           5.0         1.0                   0.0           0.0   \n",
       "4           7.0           5.0         1.0                   3.0           0.0   \n",
       "...         ...           ...         ...                   ...           ...   \n",
       "1339        2.0           1.0         1.0                   0.0           0.0   \n",
       "1340       16.0          22.0         4.0                  18.0           7.0   \n",
       "1341       12.0           3.0         8.0                   0.0           6.0   \n",
       "1342        8.0           9.0         0.0                   0.0          10.0   \n",
       "1343        4.0           1.0         1.0                   0.0           1.0   \n",
       "\n",
       "      CONDITION_COUNT  CYCLOMATIC_COMPLEXITY  CYCLOMATIC_DENSITY  \\\n",
       "0                20.0                    6.0                0.25   \n",
       "1                16.0                    5.0                0.56   \n",
       "2                 6.0                    3.0                0.17   \n",
       "3                 8.0                    3.0                0.30   \n",
       "4                 0.0                    3.0                0.15   \n",
       "...               ...                    ...                 ...   \n",
       "1339              0.0                    1.0                0.14   \n",
       "1340             22.0                   15.0                0.25   \n",
       "1341              4.0                    2.0                0.11   \n",
       "1342              0.0                    5.0                0.42   \n",
       "1343              0.0                    1.0                0.25   \n",
       "\n",
       "      DECISION_COUNT  DECISION_DENSITY  ...  NODE_COUNT  \\\n",
       "0               10.0               2.0  ...        25.0   \n",
       "1                6.0               2.0  ...        14.0   \n",
       "2                2.0               3.0  ...         7.0   \n",
       "3                4.0               2.0  ...        10.0   \n",
       "4                0.0               0.0  ...        10.0   \n",
       "...              ...               ...  ...         ...   \n",
       "1339             0.0               0.0  ...         3.0   \n",
       "1340            10.0               2.0  ...        32.0   \n",
       "1341             2.0               2.0  ...        14.0   \n",
       "1342             0.0               0.0  ...        10.0   \n",
       "1343             0.0               0.0  ...         3.0   \n",
       "\n",
       "      NORMALIZED_CYLOMATIC_COMPLEXITY  NUM_OPERANDS  NUM_OPERATORS  \\\n",
       "0                                0.11          53.0           49.0   \n",
       "1                                0.36          13.0           24.0   \n",
       "2                                0.13          16.0           28.0   \n",
       "3                                0.19          13.0           16.0   \n",
       "4                                0.11          26.0           46.0   \n",
       "...                               ...           ...            ...   \n",
       "1339                             0.09           8.0           15.0   \n",
       "1340                             0.18         125.0          275.0   \n",
       "1341                             0.05          28.0           40.0   \n",
       "1342                             0.16          20.0           38.0   \n",
       "1343                             0.09           8.0           18.0   \n",
       "\n",
       "      NUM_UNIQUE_OPERANDS  NUM_UNIQUE_OPERATORS  NUMBER_OF_LINES  \\\n",
       "0                    23.0                  12.0             57.0   \n",
       "1                     7.0                  14.0             14.0   \n",
       "2                     9.0                  14.0             23.0   \n",
       "3                    10.0                   9.0             16.0   \n",
       "4                     7.0                   7.0             28.0   \n",
       "...                   ...                   ...              ...   \n",
       "1339                  5.0                   8.0             11.0   \n",
       "1340                 25.0                  29.0             85.0   \n",
       "1341                 19.0                  13.0             39.0   \n",
       "1342                  9.0                  20.0             32.0   \n",
       "1343                  7.0                  11.0             11.0   \n",
       "\n",
       "      PERCENT_COMMENTS  LOC_TOTAL  target  \n",
       "0                31.25       24.0       0  \n",
       "1                10.00        9.0       0  \n",
       "2                10.53       18.0       0  \n",
       "3                 0.00       10.0       0  \n",
       "4                15.00       20.0       0  \n",
       "...                ...        ...     ...  \n",
       "1339              0.00        7.0       0  \n",
       "1340             37.31       60.0       0  \n",
       "1341             24.00       19.0       0  \n",
       "1342             45.45       12.0       0  \n",
       "1343             20.00        4.0       0  \n",
       "\n",
       "[1344 rows x 38 columns]"
      ]
     },
     "execution_count": 3,
     "metadata": {},
     "output_type": "execute_result"
    }
   ],
   "source": [
    "data"
   ]
  },
  {
   "cell_type": "code",
   "execution_count": 4,
   "id": "8234a1e7",
   "metadata": {},
   "outputs": [
    {
     "name": "stdout",
     "output_type": "stream",
     "text": [
      "Verbose Reporter\n",
      "-----------------------------------------------------------------------------------------------------------------------------------------\n",
      "|         Dataset         |  Generation  |     Train Fitness     |       Test Fitness       |        Timing          |      Nodes       |\n",
      "-----------------------------------------------------------------------------------------------------------------------------------------\n",
      "|     pc4                 |       0      |   0.34936395287513733 |   0.3453179597854614     |   0.06458044052124023  |      5           |\n",
      "|     pc4                 |       1      |   0.34936395287513733 |   0.3453179597854614     |   0.018021106719970703 |      5           |\n",
      "|     pc4                 |       2      |   0.34936395287513733 |   0.3453179597854614     |   0.0                  |      5           |\n",
      "|     pc4                 |       3      |   0.34936395287513733 |   0.3453179597854614     |   0.015044212341308594 |      5           |\n",
      "|     pc4                 |       4      |   0.34936395287513733 |   0.3453179597854614     |   0.01809096336364746  |      5           |\n",
      "|     pc4                 |       5      |   0.34888702630996704 |   0.3463442921638489     |   0.015543699264526367 |      16          |\n"
     ]
    }
   ],
   "source": [
    "trained_model = train_model(\n",
    "    dataset_name=dataset_name,\n",
    "    X_train=X_train,\n",
    "    y_train=y_train,\n",
    "    X_test=X_test,\n",
    "    y_test=y_test,\n",
    "    model=model_config['name'],\n",
    "    **model_config['config']\n",
    ")"
   ]
  },
  {
   "cell_type": "code",
   "execution_count": 5,
   "id": "e2da1553",
   "metadata": {},
   "outputs": [
    {
     "data": {
      "text/plain": [
       "\"('add', ('subtract', 'constant__0.8', 'constant_2.2'), 'x17') + f(('divide', 'x19', 'constant_8.3'))\""
      ]
     },
     "execution_count": 5,
     "metadata": {},
     "output_type": "execute_result"
    }
   ],
   "source": [
    "rep = trained_model.get_tree_representation()\n",
    "rep"
   ]
  },
  {
   "cell_type": "code",
   "execution_count": 6,
   "id": "d84ac891",
   "metadata": {},
   "outputs": [
    {
     "data": {
      "text/plain": [
       "\"('add', ('subtract', 'constant__0.8', 'constant_2.2'), 'HALSTEAD_CONTENT') + f(('divide', 'HALSTEAD_EFFORT', 'constant_8.3'))\""
      ]
     },
     "execution_count": 6,
     "metadata": {},
     "output_type": "execute_result"
    }
   ],
   "source": [
    "mapping = {col: f'x{i}' for i, col in enumerate(data.columns)}\n",
    "mapping_table = pd.DataFrame(list(mapping.items()), columns=['Original', 'Mapped'])\n",
    "reverse_mapping = {v: k for k, v in mapping.items()}\n",
    "\n",
    "\n",
    "for k, v in reverse_mapping.items():\n",
    "    rep = re.sub(rf'\\b{k}\\b', v, rep)\n",
    "\n",
    "rep"
   ]
  },
  {
   "cell_type": "code",
   "execution_count": 7,
   "id": "415c8a59",
   "metadata": {},
   "outputs": [],
   "source": [
    "def expr_to_latex(expr):\n",
    "    def to_latex(node):\n",
    "        if isinstance(node, tuple):\n",
    "            op = node[0]\n",
    "            if op == 'add':\n",
    "                return f\"{to_latex(node[1])} + {to_latex(node[2])}\"\n",
    "            elif op == 'subtract':\n",
    "                return f\"{to_latex(node[1])} - {to_latex(node[2])}\"\n",
    "            elif op == 'multiply':\n",
    "                return f\"{to_latex(node[1])} \\\\times {to_latex(node[2])}\"\n",
    "            elif op == 'divide':\n",
    "                return f\"\\\\frac{{{to_latex(node[1])}}}{{{to_latex(node[2])}}}\"\n",
    "            else:\n",
    "                return f\"\\\\text{{UNKNOWN\\_OP}}({', '.join(map(str, node))})\"\n",
    "        elif isinstance(node, str):\n",
    "            node = node.replace(\"__\", \"_\")  # Handle double underscores as subscript\n",
    "            if \"_\" in node:\n",
    "                parts = node.split(\"_\")\n",
    "                return f\"\\\\text{{{parts[0]}}}_{{{parts[1]}}}\" if len(parts) == 2 else f\"\\\\text{{{node}}}\"\n",
    "            return f\"\\\\text{{{node}}}\"\n",
    "        else:\n",
    "            return str(node)\n",
    "\n",
    "    # If expression is wrapped with f(expr)\n",
    "    if isinstance(expr, tuple) and expr[0] in {'add', 'subtract', 'multiply', 'divide'}:\n",
    "        return to_latex(expr)\n",
    "    elif isinstance(expr, tuple) and callable(expr[0]):\n",
    "        return f\"f\\\\left({to_latex(expr[1])}\\\\right)\"\n",
    "    else:\n",
    "        return f\"f\\\\left({to_latex(expr)}\\\\right)\"\n"
   ]
  },
  {
   "cell_type": "code",
   "execution_count": 8,
   "id": "ea6d32f3",
   "metadata": {},
   "outputs": [],
   "source": [
    "latex_rep = expr_to_latex(rep)"
   ]
  },
  {
   "cell_type": "code",
   "execution_count": 9,
   "id": "8ce613a9",
   "metadata": {},
   "outputs": [
    {
     "data": {
      "text/plain": [
       "\"f\\\\left(\\\\text{('add', ('subtract', 'constant_0.8', 'constant_2.2'), 'HALSTEAD_CONTENT') + f(('divide', 'HALSTEAD_EFFORT', 'constant_8.3'))}\\\\right)\""
      ]
     },
     "execution_count": 9,
     "metadata": {},
     "output_type": "execute_result"
    }
   ],
   "source": [
    "latex_rep"
   ]
  },
  {
   "cell_type": "code",
   "execution_count": 10,
   "id": "5f32652a",
   "metadata": {},
   "outputs": [],
   "source": [
    "with open(\"short.txt\", \"w\", encoding=\"utf-8\") as file:\n",
    "    file.write(rep)"
   ]
  },
  {
   "cell_type": "code",
   "execution_count": 11,
   "id": "07209229",
   "metadata": {},
   "outputs": [
    {
     "data": {
      "text/plain": [
       "16"
      ]
     },
     "execution_count": 11,
     "metadata": {},
     "output_type": "execute_result"
    }
   ],
   "source": [
    "trained_model.nodes_count"
   ]
  },
  {
   "cell_type": "code",
   "execution_count": null,
   "id": "7b6b692c",
   "metadata": {},
   "outputs": [],
   "source": []
  },
  {
   "cell_type": "code",
   "execution_count": null,
   "id": "acf94a90",
   "metadata": {},
   "outputs": [],
   "source": []
  },
  {
   "cell_type": "code",
   "execution_count": null,
   "id": "6ef402b6",
   "metadata": {},
   "outputs": [],
   "source": []
  },
  {
   "cell_type": "code",
   "execution_count": 12,
   "id": "51bd99e0",
   "metadata": {},
   "outputs": [],
   "source": [
    "dataset_name = 'pc4'\n",
    "data_filepath = '../../data/'  # Ensure trailing slash\n",
    "model_config = copy.deepcopy(basic_model_config_slim_plussig1)\n",
    "model_config['config']['log_path'] = 'interpretations/'  # Set log path for interpretations\n",
    "model_config['config']['seed'] = 2  # Enable verbose logging\n",
    "model_config['config']['verbose'] = True\n",
    "model_config = fill_config(model_config, scaling = True, oversampling= False, fitness_function='sigmoid_rmse', minimization=True, inflation_rate=0.3, ms_upper=0.3)\n",
    "# --- Load Data and Metadata ---\n",
    "data = pd.read_csv(f\"{data_filepath}data_prepared/{dataset_name}.csv\")\n",
    "data_info = load_and_adapt_data_info(f\"{data_filepath}data_info.csv\")\n",
    "train_indices = data_info.loc[data_info['name'] == dataset_name, 'train_indices'].values[0][0]\n",
    "test_indices = data_info.loc[data_info['name'] == dataset_name, 'test_indices'].values[0][0]\n",
    "categoricals = data_info.loc[data_info['name'] == dataset_name, 'categoricals'].values[0]\n",
    "\n",
    "# --- Prepare Train/Test Splits ---\n",
    "X_train, y_train, X_test, y_test = return_train_test(\n",
    "    df=data,\n",
    "    train_indices=train_indices,\n",
    "    test_indices=test_indices,\n",
    "    scaling=model_config['scaling'],\n",
    "    oversampling=model_config['oversampling'],\n",
    "    categoricals=categoricals)"
   ]
  },
  {
   "cell_type": "code",
   "execution_count": 13,
   "id": "3a1f6a9c",
   "metadata": {},
   "outputs": [
    {
     "name": "stdout",
     "output_type": "stream",
     "text": [
      "Verbose Reporter\n",
      "-----------------------------------------------------------------------------------------------------------------------------------------\n",
      "|         Dataset         |  Generation  |     Train Fitness     |       Test Fitness       |        Timing          |      Nodes       |\n",
      "-----------------------------------------------------------------------------------------------------------------------------------------\n",
      "|     pc4                 |       0      |   0.34936395287513733 |   0.3453179597854614     |   0.11126017570495605  |      5           |\n",
      "|     pc4                 |       1      |   0.34936395287513733 |   0.3453179597854614     |   0.016098976135253906 |      5           |\n",
      "|     pc4                 |       2      |   0.34936395287513733 |   0.3453179597854614     |   0.01794910430908203  |      5           |\n",
      "|     pc4                 |       3      |   0.3484395742416382  |   0.34443798661231995    |   0.015549421310424805 |      16          |\n",
      "|     pc4                 |       4      |   0.3441023528575897  |   0.3394181430339813     |   0.017840862274169922 |      16          |\n",
      "|     pc4                 |       5      |   0.34147998690605164 |   0.33624467253685       |   0.015120267868041992 |      27          |\n"
     ]
    }
   ],
   "source": [
    "trained_model = train_model(\n",
    "    dataset_name=dataset_name,\n",
    "    X_train=X_train,\n",
    "    y_train=y_train,\n",
    "    X_test=X_test,\n",
    "    y_test=y_test,\n",
    "    model=model_config['name'],\n",
    "    **model_config['config']\n",
    ")"
   ]
  },
  {
   "cell_type": "code",
   "execution_count": 14,
   "id": "faa039c5",
   "metadata": {},
   "outputs": [],
   "source": [
    "rep = trained_model.get_tree_representation()"
   ]
  },
  {
   "cell_type": "code",
   "execution_count": 15,
   "id": "f21d9414",
   "metadata": {},
   "outputs": [
    {
     "data": {
      "text/plain": [
       "\"('add', ('subtract', 'constant__0.8', 'constant_2.2'), 'HALSTEAD_CONTENT') + f(('add', 'NORMALIZED_CYLOMATIC_COMPLEXITY', 'constant__9.0')) + f(('add', 'constant_7.2', 'PERCENT_COMMENTS'))\""
      ]
     },
     "execution_count": 15,
     "metadata": {},
     "output_type": "execute_result"
    }
   ],
   "source": [
    "mapping = {col: f'x{i}' for i, col in enumerate(data.columns)}\n",
    "mapping_table = pd.DataFrame(list(mapping.items()), columns=['Original', 'Mapped'])\n",
    "reverse_mapping = {v: k for k, v in mapping.items()}\n",
    "for k, v in reverse_mapping.items():\n",
    "    rep = re.sub(rf'\\b{k}\\b', v, rep)\n",
    "rep"
   ]
  },
  {
   "cell_type": "code",
   "execution_count": 16,
   "id": "01596c76",
   "metadata": {},
   "outputs": [
    {
     "data": {
      "text/plain": [
       "\"('add', ('subtract', 'constant__0.8', 'constant_2.2'), 'HALSTEAD_CONTENT') + f(('add', 'NORMALIZED_CYLOMATIC_COMPLEXITY', 'constant__9.0')) + f(('add', 'constant_7.2', 'PERCENT_COMMENTS'))\""
      ]
     },
     "execution_count": 16,
     "metadata": {},
     "output_type": "execute_result"
    }
   ],
   "source": [
    "rep"
   ]
  },
  {
   "cell_type": "code",
   "execution_count": 17,
   "id": "5ff73ec8",
   "metadata": {},
   "outputs": [],
   "source": [
    "with open(\"long.txt\", \"w\", encoding=\"utf-8\") as file:\n",
    "    file.write(rep)"
   ]
  },
  {
   "cell_type": "code",
   "execution_count": 18,
   "id": "00bf1a08",
   "metadata": {},
   "outputs": [
    {
     "data": {
      "text/plain": [
       "27"
      ]
     },
     "execution_count": 18,
     "metadata": {},
     "output_type": "execute_result"
    }
   ],
   "source": [
    "trained_model.nodes_count"
   ]
  },
  {
   "cell_type": "code",
   "execution_count": 2,
   "id": "343fc748",
   "metadata": {},
   "outputs": [
    {
     "name": "stdout",
     "output_type": "stream",
     "text": [
      "torch.Size([10, 1]) torch.Size([5, 1]) torch.Size([10]) torch.Size([5])\n"
     ]
    }
   ],
   "source": [
    "import torch\n",
    "torch.manual_seed(1)  # For reproducibility\n",
    "# Random X with one feature (column)\n",
    "X_train = torch.rand(10, 1)\n",
    "X_test = torch.rand(5, 1)\n",
    "\n",
    "# Random binary labels for y (e.g., 0 or 1)\n",
    "y_train = torch.randint(0, 2, (10,))\n",
    "y_test = torch.randint(0, 2, (5,))\n",
    "\n",
    "# Print shapes\n",
    "print(X_train.shape, X_test.shape, y_train.shape, y_test.shape)\n"
   ]
  },
  {
   "cell_type": "code",
   "execution_count": 3,
   "id": "156c2c0a",
   "metadata": {},
   "outputs": [
    {
     "name": "stdout",
     "output_type": "stream",
     "text": [
      "Verbose Reporter\n",
      "-----------------------------------------------------------------------------------------------------------------------------------------\n",
      "|         Dataset         |  Generation  |     Train Fitness     |       Test Fitness       |        Timing          |      Nodes       |\n",
      "-----------------------------------------------------------------------------------------------------------------------------------------\n",
      "|     pc4                 |       0      |   0.4472213387489319  |   0.3409407436847687     |   0.11632227897644043  |      15          |\n",
      "|     pc4                 |       1      |   0.4472213387489319  |   0.3409407436847687     |   0.0                  |      15          |\n",
      "|     pc4                 |       2      |   0.4472213387489319  |   0.3409407436847687     |   0.002723217010498047 |      15          |\n",
      "|     pc4                 |       3      |   0.4472213387489319  |   0.3409407436847687     |   0.01504206657409668  |      15          |\n",
      "|     pc4                 |       4      |   0.4472213387489319  |   0.3409407436847687     |   0.01515650749206543  |      15          |\n",
      "|     pc4                 |       5      |   0.4472213387489319  |   0.3409407436847687     |   0.002171039581298828 |      15          |\n",
      "|     pc4                 |       6      |   0.4472213387489319  |   0.3409407436847687     |   0.015668630599975586 |      15          |\n",
      "|     pc4                 |       7      |   0.4472213387489319  |   0.3409407436847687     |   0.02331829071044922  |      15          |\n",
      "|     pc4                 |       8      |   0.4472213387489319  |   0.3409407436847687     |   0.009996175765991211 |      15          |\n",
      "|     pc4                 |       9      |   0.4472213387489319  |   0.3409407436847687     |   0.011002779006958008 |      15          |\n",
      "|     pc4                 |       10     |   0.4472213387489319  |   0.3409407436847687     |   0.008888483047485352 |      15          |\n",
      "|     pc4                 |       11     |   0.4472213387489319  |   0.3409407436847687     |   0.015761613845825195 |      15          |\n",
      "|     pc4                 |       12     |   0.4269963502883911  |   0.3722511827945709     |   0.013326168060302734 |      26          |\n",
      "|     pc4                 |       13     |   0.4061867296695709  |   0.20745380222797394    |   0.009964466094970703 |      28          |\n",
      "|     pc4                 |       14     |   0.4061867296695709  |   0.20745380222797394    |   0.012001752853393555 |      28          |\n",
      "|     pc4                 |       15     |   0.4061867296695709  |   0.20745380222797394    |   0.009172677993774414 |      28          |\n",
      "|     pc4                 |       16     |   0.4061867296695709  |   0.20745380222797394    |   0.0                  |      28          |\n",
      "|     pc4                 |       17     |   0.4061867296695709  |   0.20745380222797394    |   0.01567220687866211  |      28          |\n",
      "|     pc4                 |       18     |   0.4061867296695709  |   0.20745380222797394    |   0.018729209899902344 |      28          |\n",
      "|     pc4                 |       19     |   0.4061867296695709  |   0.20745380222797394    |   0.0                  |      28          |\n",
      "|     pc4                 |       20     |   0.4061867296695709  |   0.20745380222797394    |   0.02846384048461914  |      28          |\n",
      "|     pc4                 |       21     |   0.4061867296695709  |   0.20745380222797394    |   0.009310007095336914 |      28          |\n",
      "|     pc4                 |       22     |   0.4061867296695709  |   0.20745380222797394    |   0.01564931869506836  |      28          |\n",
      "|     pc4                 |       23     |   0.4061867296695709  |   0.20745380222797394    |   0.015559196472167969 |      28          |\n",
      "|     pc4                 |       24     |   0.4061867296695709  |   0.20745380222797394    |   0.012022733688354492 |      28          |\n",
      "|     pc4                 |       25     |   0.4061867296695709  |   0.20745380222797394    |   0.01197671890258789  |      28          |\n",
      "|     pc4                 |       26     |   0.4061867296695709  |   0.20745380222797394    |   0.012018680572509766 |      28          |\n",
      "|     pc4                 |       27     |   0.4061867296695709  |   0.20745380222797394    |   0.010998249053955078 |      28          |\n",
      "|     pc4                 |       28     |   0.4061867296695709  |   0.20745380222797394    |   0.0009992122650146484|      28          |\n",
      "|     pc4                 |       29     |   0.4061867296695709  |   0.20745380222797394    |   0.015535593032836914 |      28          |\n",
      "|     pc4                 |       30     |   0.4061867296695709  |   0.20745380222797394    |   0.01562666893005371  |      28          |\n",
      "|     pc4                 |       31     |   0.4061867296695709  |   0.20745380222797394    |   0.015889406204223633 |      28          |\n",
      "|     pc4                 |       32     |   0.4061867296695709  |   0.20745380222797394    |   0.009994745254516602 |      28          |\n",
      "|     pc4                 |       33     |   0.4061867296695709  |   0.20745380222797394    |   0.012000799179077148 |      28          |\n",
      "|     pc4                 |       34     |   0.4061867296695709  |   0.20745380222797394    |   0.01044607162475586  |      28          |\n",
      "|     pc4                 |       35     |   0.4061867296695709  |   0.20745380222797394    |   0.01300191879272461  |      28          |\n",
      "|     pc4                 |       36     |   0.4061867296695709  |   0.20745380222797394    |   0.011137723922729492 |      28          |\n",
      "|     pc4                 |       37     |   0.4061867296695709  |   0.20745380222797394    |   0.014052867889404297 |      28          |\n",
      "|     pc4                 |       38     |   0.4061867296695709  |   0.20745380222797394    |   0.0018830299377441406|      28          |\n",
      "|     pc4                 |       39     |   0.4061867296695709  |   0.20745380222797394    |   0.015732765197753906 |      28          |\n",
      "|     pc4                 |       40     |   0.4061867296695709  |   0.20745380222797394    |   0.012853622436523438 |      28          |\n",
      "|     pc4                 |       41     |   0.4061867296695709  |   0.20745380222797394    |   0.007833480834960938 |      28          |\n",
      "|     pc4                 |       42     |   0.4061867296695709  |   0.20745380222797394    |   0.015661954879760742 |      28          |\n",
      "|     pc4                 |       43     |   0.4061867296695709  |   0.20745380222797394    |   0.010659933090209961 |      28          |\n",
      "|     pc4                 |       44     |   0.4061867296695709  |   0.20745380222797394    |   0.011071205139160156 |      28          |\n",
      "|     pc4                 |       45     |   0.4061867296695709  |   0.20745380222797394    |   0.0                  |      28          |\n",
      "|     pc4                 |       46     |   0.4061867296695709  |   0.20745380222797394    |   0.0215609073638916   |      28          |\n",
      "|     pc4                 |       47     |   0.4061867296695709  |   0.20745380222797394    |   0.0                  |      28          |\n",
      "|     pc4                 |       48     |   0.4061867296695709  |   0.20745380222797394    |   0.011208057403564453 |      28          |\n",
      "|     pc4                 |       49     |   0.4061867296695709  |   0.20745380222797394    |   0.0                  |      28          |\n",
      "|     pc4                 |       50     |   0.4061867296695709  |   0.20745380222797394    |   0.01504659652709961  |      28          |\n"
     ]
    }
   ],
   "source": [
    "trained_model = train_model(\n",
    "    dataset_name=dataset_name,\n",
    "    X_train=X_train,\n",
    "    y_train=y_train,\n",
    "    X_test=X_test,\n",
    "    y_test=y_test,\n",
    "    model=model_config['name'],\n",
    "    **model_config['config']\n",
    ")"
   ]
  },
  {
   "cell_type": "code",
   "execution_count": 4,
   "id": "b1f5e1dc",
   "metadata": {},
   "outputs": [
    {
     "data": {
      "text/plain": [
       "\"('multiply', ('add', ('multiply', 'x0', 'x0'), ('divide', 'x0', 'x0')), ('multiply', ('divide', 'x0', 'constant__4.8'), ('subtract', 'constant_10.0', 'x0'))) + f(('subtract', 'x0', ('multiply', 'x0', 'x0')) - ('multiply', 'x0', 'x0'))\""
      ]
     },
     "execution_count": 4,
     "metadata": {},
     "output_type": "execute_result"
    }
   ],
   "source": [
    "trained_model.get_tree_representation()"
   ]
  },
  {
   "cell_type": "code",
   "execution_count": 5,
   "id": "ee04f6e6",
   "metadata": {},
   "outputs": [
    {
     "data": {
      "text/plain": [
       "tensor([-4.2016, -1.6816, -5.3732,  1.0025, -0.6459])"
      ]
     },
     "execution_count": 5,
     "metadata": {},
     "output_type": "execute_result"
    }
   ],
   "source": [
    "trained_model.predict(X_test)"
   ]
  },
  {
   "cell_type": "code",
   "execution_count": 6,
   "id": "91b7a5e6",
   "metadata": {},
   "outputs": [],
   "source": [
    "def custom_function(x):\n",
    "    return 0 + (-1* (torch.sigmoid(x/4.5) - torch.sigmoid((x/x))))\n"
   ]
  },
  {
   "cell_type": "code",
   "execution_count": 7,
   "id": "d9d60aa5",
   "metadata": {},
   "outputs": [
    {
     "data": {
      "text/plain": [
       "tensor([[0.1956],\n",
       "        [0.2019],\n",
       "        [0.1932],\n",
       "        [0.2141],\n",
       "        [0.2053]])"
      ]
     },
     "execution_count": 7,
     "metadata": {},
     "output_type": "execute_result"
    }
   ],
   "source": [
    "custom_function(X_test)"
   ]
  },
  {
   "cell_type": "code",
   "execution_count": 8,
   "id": "387c59c1",
   "metadata": {},
   "outputs": [
    {
     "data": {
      "text/plain": [
       "tensor([[0.6387],\n",
       "        [0.5247],\n",
       "        [0.6826],\n",
       "        [0.3051],\n",
       "        [0.4635]])"
      ]
     },
     "execution_count": 8,
     "metadata": {},
     "output_type": "execute_result"
    }
   ],
   "source": [
    "X_test"
   ]
  },
  {
   "cell_type": "code",
   "execution_count": 9,
   "id": "f072a360",
   "metadata": {},
   "outputs": [
    {
     "data": {
      "text/plain": [
       "1.37999"
      ]
     },
     "execution_count": 9,
     "metadata": {},
     "output_type": "execute_result"
    }
   ],
   "source": [
    "1 + 0.0481 * 7.9"
   ]
  }
 ],
 "metadata": {
  "kernelspec": {
   "display_name": "Python 3",
   "language": "python",
   "name": "python3"
  },
  "language_info": {
   "codemirror_mode": {
    "name": "ipython",
    "version": 3
   },
   "file_extension": ".py",
   "mimetype": "text/x-python",
   "name": "python",
   "nbconvert_exporter": "python",
   "pygments_lexer": "ipython3",
   "version": "3.11.4"
  }
 },
 "nbformat": 4,
 "nbformat_minor": 5
}
