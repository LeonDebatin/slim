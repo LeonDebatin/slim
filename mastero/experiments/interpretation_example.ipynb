{
 "cells": [
  {
   "cell_type": "code",
   "execution_count": null,
   "id": "9b392d08",
   "metadata": {},
   "outputs": [],
   "source": [
    "from utils import *\n",
    "import pandas as pd\n",
    "from basic_model_config import *\n",
    "import copy\n",
    "# --- Required Configurations ---\n",
    "dataset_name = 'credit'\n",
    "data_filepath = 'data/'  # Ensure trailing slash\n",
    "model_config = copy.deepcopy(basic_model_config_slim_plussig1)\n",
    "model_config['config']['log_path'] = 'interpretations/'  # Set log path for interpretations\n",
    "model_config = fill_config(model_config, scaling = True, oversampling= False, fitness_function='sigmoid_rmse', minimization=True, inflation_rate=0.3, ms_upper=5)\n",
    "# --- Load Data and Metadata ---\n",
    "data = pd.read_csv(f\"{data_filepath}data_prepared/{dataset_name}.csv\")\n",
    "data_info = load_and_adapt_data_info(f\"{data_filepath}data_info.csv\")\n",
    "train_indices = data_info.loc[data_info['name'] == dataset_name, 'train_indices'].values[0][0]\n",
    "test_indices = data_info.loc[data_info['name'] == dataset_name, 'test_indices'].values[0][0]\n",
    "categoricals = data_info.loc[data_info['name'] == dataset_name, 'categoricals'].values[0]\n",
    "\n",
    "# --- Prepare Train/Test Splits ---\n",
    "X_train, y_train, X_test, y_test = return_train_test(\n",
    "    df=data,\n",
    "    train_indices=train_indices,\n",
    "    test_indices=test_indices,\n",
    "    scaling=model_config['scaling'],\n",
    "    oversampling=model_config['oversampling'],\n",
    "    categoricals=categoricals\n",
    ")\n",
    "\n",
    "update_sample_weights(y_train, y_test)"
   ]
  },
  {
   "cell_type": "code",
   "execution_count": null,
   "id": "8234a1e7",
   "metadata": {},
   "outputs": [],
   "source": [
    "trained_model = train_model(\n",
    "    dataset_name=dataset_name,\n",
    "    X_train=X_train,\n",
    "    y_train=y_train,\n",
    "    X_test=X_test,\n",
    "    y_test=y_test,\n",
    "    model=model_config['name'],\n",
    "    **model_config['config']\n",
    ")"
   ]
  },
  {
   "cell_type": "code",
   "execution_count": null,
   "id": "e2da1553",
   "metadata": {},
   "outputs": [],
   "source": []
  }
 ],
 "metadata": {
  "language_info": {
   "name": "python"
  }
 },
 "nbformat": 4,
 "nbformat_minor": 5
}
