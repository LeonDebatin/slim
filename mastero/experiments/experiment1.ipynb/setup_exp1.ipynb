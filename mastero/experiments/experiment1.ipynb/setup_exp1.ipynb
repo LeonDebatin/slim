{
 "cells": [
  {
   "cell_type": "code",
   "execution_count": 1,
   "metadata": {},
   "outputs": [],
   "source": [
    "import sys\n",
    "import os\n",
    "sys.path.insert(0, os.path.abspath(\"..\"))\n",
    "import copy\n",
    "\n",
    "from monte_carlo import MonteCarlo\n",
    "from experiment import Experiment\n",
    "from basic_model_config import *\n",
    "from utils import fill_config"
   ]
  },
  {
   "cell_type": "code",
   "execution_count": 2,
   "metadata": {},
   "outputs": [
    {
     "name": "stdout",
     "output_type": "stream",
     "text": [
      "True sigmoid_rmse\n",
      "False sigmoid_rmse\n",
      "False f1_score\n",
      "False accuracy\n",
      "False roc_auc\n"
     ]
    }
   ],
   "source": [
    "import copy\n",
    "\n",
    "exp1_configs = []\n",
    "base_configs = [basic_model_config_gsgp]\n",
    "\n",
    "for baseconfig in base_configs:\n",
    "    for ffunction in [\"sigmoid_rmse\", \"f1_score\", \"accuracy\", \"roc_auc\"]:\n",
    "        \n",
    "        if ffunction == \"sigmoid_rmse\":\n",
    "            for oversample in [True, False]:\n",
    "                config = copy.deepcopy(baseconfig)  # Ensure fresh copy\n",
    "                config = fill_config(config, oversample, ffunction, True)\n",
    "                exp1_configs.append(config)\n",
    "        else:\n",
    "            config = copy.deepcopy(baseconfig)  # Fresh copy for each function\n",
    "            config = fill_config(config, False, ffunction, False)\n",
    "            exp1_configs.append(config)\n",
    "\n",
    "# Print results to verify\n",
    "for config in exp1_configs:\n",
    "    print(config['oversampling'], config['config']['fitness_function'])\n"
   ]
  },
  {
   "cell_type": "code",
   "execution_count": 3,
   "metadata": {},
   "outputs": [
    {
     "name": "stdout",
     "output_type": "stream",
     "text": [
      "Results are being logged in the following path:  ../../data/results/experiment1/clima\n"
     ]
    },
    {
     "name": "stderr",
     "output_type": "stream",
     "text": [
      "c:\\Users\\leond\\AppData\\Local\\Programs\\Python\\Python311\\Lib\\site-packages\\joblib\\externals\\loky\\backend\\context.py:136: UserWarning: Could not find the number of physical cores for the following reason:\n",
      "found 0 physical cores < 1\n",
      "Returning the number of logical cores instead. You can silence this warning by setting LOKY_MAX_CPU_COUNT to the number of cores you want to use.\n",
      "  warnings.warn(\n",
      "  File \"c:\\Users\\leond\\AppData\\Local\\Programs\\Python\\Python311\\Lib\\site-packages\\joblib\\externals\\loky\\backend\\context.py\", line 282, in _count_physical_cores\n",
      "    raise ValueError(f\"found {cpu_count_physical} physical cores < 1\")\n"
     ]
    },
    {
     "name": "stdout",
     "output_type": "stream",
     "text": [
      "Run 1 - Accuracy: 0.949 | 0.938 - ROC: 0.987 | 0.985 - F1: 0.951 | 0.737\n",
      "Run 2 - Accuracy: 0.953 | 0.92 - ROC: 0.987 | 0.97 - F1: 0.955 | 0.667\n",
      "Run 3 - Accuracy: 0.952 | 0.926 - ROC: 0.984 | 0.994 - F1: 0.953 | 0.7\n",
      "Run 4 - Accuracy: 0.951 | 0.907 - ROC: 0.989 | 0.924 - F1: 0.952 | 0.615\n",
      "Run 5 - Accuracy: 0.953 | 0.951 - ROC: 0.988 | 0.988 - F1: 0.954 | 0.778\n",
      "Run 1 - Accuracy: 0.971 | 0.926 - ROC: 0.965 | 0.949 - F1: 0.792 | 0.455\n",
      "Run 2 - Accuracy: 0.976 | 0.92 - ROC: 0.964 | 0.964 - F1: 0.842 | 0.435\n",
      "Run 3 - Accuracy: 0.974 | 0.957 - ROC: 0.965 | 0.972 - F1: 0.828 | 0.696\n",
      "Run 4 - Accuracy: 0.987 | 0.92 - ROC: 0.999 | 0.889 - F1: 0.915 | 0.48\n",
      "Run 5 - Accuracy: 0.976 | 0.938 - ROC: 0.96 | 0.954 - F1: 0.842 | 0.5\n",
      "Run 1 - Accuracy: 0.979 | 0.914 - ROC: 0.96 | 0.926 - F1: 0.871 | 0.462\n",
      "Run 2 - Accuracy: 0.976 | 0.914 - ROC: 0.942 | 0.912 - F1: 0.852 | 0.5\n",
      "Run 3 - Accuracy: 0.974 | 0.963 - ROC: 0.928 | 0.987 - F1: 0.833 | 0.769\n",
      "Run 4 - Accuracy: 0.981 | 0.926 - ROC: 0.984 | 0.853 - F1: 0.899 | 0.5\n",
      "Run 5 - Accuracy: 0.979 | 0.92 - ROC: 0.942 | 0.919 - F1: 0.871 | 0.552\n",
      "Run 1 - Accuracy: 0.939 | 0.907 - ROC: 0.69 | 0.842 - F1: 0.439 | 0.118\n",
      "Run 2 - Accuracy: 0.976 | 0.914 - ROC: 0.967 | 0.96 - F1: 0.842 | 0.462\n",
      "Run 3 - Accuracy: 0.974 | 0.895 - ROC: 0.943 | 0.935 - F1: 0.839 | 0.514\n",
      "Run 4 - Accuracy: 0.918 | 0.907 - ROC: 0.544 | 0.601 - F1: 0.061 | 0.0\n",
      "Run 5 - Accuracy: 0.952 | 0.907 - ROC: 0.692 | 0.776 - F1: 0.625 | 0.286\n",
      "Run 1 - Accuracy: 0.085 | 0.086 - ROC: 0.992 | 0.957 - F1: 0.156 | 0.159\n",
      "Run 2 - Accuracy: 0.915 | 0.914 - ROC: 0.991 | 0.93 - F1: 0.0 | 0.0\n",
      "Run 3 - Accuracy: 0.892 | 0.877 - ROC: 0.987 | 0.957 - F1: 0.602 | 0.565\n",
      "Run 4 - Accuracy: 0.085 | 0.086 - ROC: 1.0 | 0.87 - F1: 0.156 | 0.159\n",
      "Run 5 - Accuracy: 0.085 | 0.086 - ROC: 0.985 | 0.925 - F1: 0.156 | 0.159\n"
     ]
    }
   ],
   "source": [
    "MonteCarlo(\n",
    "    \"experiment1\",\n",
    "    \"clima\",\n",
    "    \"../../data/\",\n",
    "    exp1_configs,\n",
    "    n_runs=5,\n",
    "    log=True,\n",
    "    verbose=True,\n",
    ").run()"
   ]
  },
  {
   "cell_type": "code",
   "execution_count": 4,
   "metadata": {},
   "outputs": [
    {
     "name": "stdout",
     "output_type": "stream",
     "text": [
      "Results are being logged in the following path:  ../../data/results/experiment1/qsar\n",
      "Run 1 - Accuracy: 0.879 | 0.858 - ROC: 0.949 | 0.927 - F1: 0.88 | 0.787\n",
      "Run 2 - Accuracy: 0.887 | 0.849 - ROC: 0.948 | 0.912 - F1: 0.888 | 0.788\n",
      "Run 3 - Accuracy: 0.888 | 0.886 - ROC: 0.949 | 0.948 - F1: 0.89 | 0.841\n",
      "Run 4 - Accuracy: 0.846 | 0.861 - ROC: 0.867 | 0.85 - F1: 0.841 | 0.794\n",
      "Run 5 - Accuracy: 0.893 | 0.883 - ROC: 0.954 | 0.948 - F1: 0.894 | 0.833\n",
      "Run 1 - Accuracy: 0.867 | 0.858 - ROC: 0.926 | 0.911 - F1: 0.8 | 0.767\n",
      "Run 2 - Accuracy: 0.875 | 0.855 - ROC: 0.927 | 0.896 - F1: 0.804 | 0.779\n",
      "Run 3 - Accuracy: 0.869 | 0.886 - ROC: 0.925 | 0.942 - F1: 0.8 | 0.825\n",
      "Run 4 - Accuracy: 0.854 | 0.826 - ROC: 0.848 | 0.839 - F1: 0.771 | 0.729\n",
      "Run 5 - Accuracy: 0.873 | 0.877 - ROC: 0.925 | 0.943 - F1: 0.803 | 0.81\n",
      "Run 1 - Accuracy: 0.875 | 0.823 - ROC: 0.907 | 0.909 - F1: 0.815 | 0.714\n",
      "Run 2 - Accuracy: 0.877 | 0.817 - ROC: 0.906 | 0.875 - F1: 0.821 | 0.739\n",
      "Run 3 - Accuracy: 0.854 | 0.836 - ROC: 0.895 | 0.895 - F1: 0.802 | 0.782\n",
      "Run 4 - Accuracy: 0.851 | 0.826 - ROC: 0.835 | 0.831 - F1: 0.779 | 0.732\n",
      "Run 5 - Accuracy: 0.856 | 0.839 - ROC: 0.895 | 0.899 - F1: 0.803 | 0.781\n",
      "Run 1 - Accuracy: 0.873 | 0.836 - ROC: 0.909 | 0.895 - F1: 0.814 | 0.743\n",
      "Run 2 - Accuracy: 0.848 | 0.811 - ROC: 0.815 | 0.805 - F1: 0.752 | 0.703\n",
      "Run 3 - Accuracy: 0.873 | 0.89 - ROC: 0.893 | 0.919 - F1: 0.806 | 0.837\n",
      "Run 4 - Accuracy: 0.817 | 0.798 - ROC: 0.795 | 0.811 - F1: 0.726 | 0.686\n",
      "Run 5 - Accuracy: 0.869 | 0.845 - ROC: 0.872 | 0.892 - F1: 0.778 | 0.749\n",
      "Run 1 - Accuracy: 0.663 | 0.662 - ROC: 0.924 | 0.905 - F1: 0.0 | 0.0\n",
      "Run 2 - Accuracy: 0.397 | 0.397 - ROC: 0.954 | 0.923 - F1: 0.528 | 0.528\n",
      "Run 3 - Accuracy: 0.797 | 0.811 - ROC: 0.934 | 0.936 - F1: 0.576 | 0.615\n",
      "Run 4 - Accuracy: 0.554 | 0.543 - ROC: 0.943 | 0.928 - F1: 0.601 | 0.592\n",
      "Run 5 - Accuracy: 0.344 | 0.341 - ROC: 0.943 | 0.94 - F1: 0.507 | 0.506\n"
     ]
    }
   ],
   "source": [
    "MonteCarlo(\n",
    "    \"experiment1\",\n",
    "    \"qsar\",\n",
    "    \"../../data/\",\n",
    "    exp1_configs,\n",
    "    n_runs=5,\n",
    "    log=True,\n",
    "    verbose=True,\n",
    ").run()"
   ]
  },
  {
   "cell_type": "code",
   "execution_count": 5,
   "metadata": {},
   "outputs": [
    {
     "name": "stdout",
     "output_type": "stream",
     "text": [
      "Results are being logged in the following path:  ../../data/results/experiment1/hill\n",
      "Run 1 - Accuracy: 0.851 | 0.841 - ROC: 0.914 | 0.894 - F1: 0.853 | 0.842\n",
      "Run 2 - Accuracy: 0.844 | 0.846 - ROC: 0.913 | 0.915 - F1: 0.845 | 0.847\n",
      "Run 3 - Accuracy: 0.872 | 0.874 - ROC: 0.925 | 0.929 - F1: 0.869 | 0.872\n",
      "Run 4 - Accuracy: 0.858 | 0.83 - ROC: 0.915 | 0.901 - F1: 0.858 | 0.828\n",
      "Run 5 - Accuracy: 0.864 | 0.83 - ROC: 0.924 | 0.9 - F1: 0.862 | 0.826\n",
      "Run 1 - Accuracy: 0.851 | 0.832 - ROC: 0.919 | 0.895 - F1: 0.851 | 0.827\n",
      "Run 2 - Accuracy: 0.847 | 0.819 - ROC: 0.918 | 0.887 - F1: 0.842 | 0.812\n",
      "Run 3 - Accuracy: 0.85 | 0.772 - ROC: 0.925 | 0.878 - F1: 0.841 | 0.757\n",
      "Run 4 - Accuracy: 0.849 | 0.791 - ROC: 0.919 | 0.863 - F1: 0.844 | 0.788\n",
      "Run 5 - Accuracy: 0.881 | 0.777 - ROC: 0.943 | 0.845 - F1: 0.874 | 0.762\n",
      "Run 1 - Accuracy: 0.581 | 0.541 - ROC: 0.499 | 0.49 - F1: 0.703 | 0.676\n",
      "Run 2 - Accuracy: 0.837 | 0.747 - ROC: 0.881 | 0.827 - F1: 0.841 | 0.755\n",
      "Run 3 - Accuracy: 0.804 | 0.755 - ROC: 0.861 | 0.815 - F1: 0.827 | 0.777\n",
      "Run 4 - Accuracy: 0.814 | 0.736 - ROC: 0.856 | 0.82 - F1: 0.818 | 0.743\n",
      "Run 5 - Accuracy: 0.85 | 0.75 - ROC: 0.881 | 0.813 - F1: 0.859 | 0.765\n",
      "Run 1 - Accuracy: 0.706 | 0.701 - ROC: 0.679 | 0.684 - F1: 0.702 | 0.689\n",
      "Run 2 - Accuracy: 0.716 | 0.629 - ROC: 0.672 | 0.625 - F1: 0.703 | 0.615\n",
      "Run 3 - Accuracy: 0.643 | 0.563 - ROC: 0.633 | 0.561 - F1: 0.617 | 0.539\n",
      "Run 4 - Accuracy: 0.629 | 0.591 - ROC: 0.635 | 0.609 - F1: 0.568 | 0.553\n",
      "Run 5 - Accuracy: 0.708 | 0.64 - ROC: 0.669 | 0.621 - F1: 0.716 | 0.651\n",
      "Run 1 - Accuracy: 0.644 | 0.662 - ROC: 0.708 | 0.693 - F1: 0.584 | 0.602\n",
      "Run 2 - Accuracy: 0.603 | 0.604 - ROC: 0.706 | 0.644 - F1: 0.661 | 0.654\n",
      "Run 3 - Accuracy: 0.598 | 0.571 - ROC: 0.644 | 0.558 - F1: 0.631 | 0.596\n",
      "Run 4 - Accuracy: 0.821 | 0.802 - ROC: 0.935 | 0.903 - F1: 0.842 | 0.826\n",
      "Run 5 - Accuracy: 0.892 | 0.802 - ROC: 0.951 | 0.852 - F1: 0.887 | 0.788\n"
     ]
    }
   ],
   "source": [
    "MonteCarlo(\n",
    "    \"experiment1\",\n",
    "    \"hill\",\n",
    "    \"../../data/\",\n",
    "    exp1_configs,\n",
    "    n_runs=5,\n",
    "    log=True,\n",
    "    verbose=True,\n",
    ").run()"
   ]
  },
  {
   "cell_type": "code",
   "execution_count": 6,
   "metadata": {},
   "outputs": [],
   "source": [
    "# exp1 = Experiment(\n",
    "#                 \"experiment1\",\n",
    "#                 \"../../data/\",\n",
    "#                 exp1_configs,\n",
    "#                 n_runs=30, \n",
    "#                 log=True, \n",
    "#                 verbose = True\n",
    "#                 )\n",
    "# exp1.run()"
   ]
  }
 ],
 "metadata": {
  "kernelspec": {
   "display_name": "Python 3",
   "language": "python",
   "name": "python3"
  },
  "language_info": {
   "codemirror_mode": {
    "name": "ipython",
    "version": 3
   },
   "file_extension": ".py",
   "mimetype": "text/x-python",
   "name": "python",
   "nbconvert_exporter": "python",
   "pygments_lexer": "ipython3",
   "version": "3.11.4"
  }
 },
 "nbformat": 4,
 "nbformat_minor": 2
}
