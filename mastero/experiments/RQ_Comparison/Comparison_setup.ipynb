{
 "cells": [
  {
   "cell_type": "code",
   "execution_count": 1,
   "metadata": {},
   "outputs": [],
   "source": [
    "# how does slim perfrom comapred to gp and gsgp?"
   ]
  },
  {
   "cell_type": "code",
   "execution_count": 2,
   "metadata": {},
   "outputs": [],
   "source": [
    "import sys\n",
    "import os\n",
    "sys.path.insert(0, os.path.abspath(\"..\"))\n",
    "import copy\n",
    "from monte_carlo import MonteCarlo\n",
    "from experiment import Experiment\n",
    "from basic_model_config import *\n",
    "from utils import fill_config"
   ]
  },
  {
   "cell_type": "code",
   "execution_count": 3,
   "metadata": {},
   "outputs": [
    {
     "name": "stdout",
     "output_type": "stream",
     "text": [
      "gp\n"
     ]
    }
   ],
   "source": [
    "import copy\n",
    "rq_configs = []\n",
    "base_configs = [basic_model_config_gp]\n",
    "\n",
    "for baseconfig in base_configs:\n",
    "        config = copy.deepcopy(baseconfig)\n",
    "        config = fill_config(config, scaling = True, oversampling= False, fitness_function='sigmoid_rmse', minimization=True, inflation_rate=None, ms_upper=None)\n",
    "        rq_configs.append(config)\n",
    "\n",
    "for config in rq_configs:\n",
    "        print(config['name'])\n"
   ]
  },
  {
   "cell_type": "code",
   "execution_count": 4,
   "metadata": {},
   "outputs": [],
   "source": [
    "with open(\"../RQ_Fitness/n_configs.txt\", \"r\") as f:\n",
    "    config_counter1 = int(f.read())\n",
    "config_counter1\n",
    "\n",
    "with open(\"../RQ_Inflationrate/n_configs.txt\", \"r\") as f:\n",
    "    config_counter2 = int(f.read())\n",
    "    \n",
    "config_counter = config_counter1 + config_counter2"
   ]
  },
  {
   "cell_type": "code",
   "execution_count": null,
   "metadata": {},
   "outputs": [
    {
     "name": "stdout",
     "output_type": "stream",
     "text": [
      "Results are being logged in the following path:  ../../data/results/test/auction\n",
      "Running gp on auction...\n",
      "tensor([[ 1.2420, -1.3305,  0.3722,  ...,  1.0548, -0.6845, -0.4339],\n",
      "        [ 0.0137, -0.0966,  0.3722,  ..., -0.1811,  0.4310,  0.5148],\n",
      "        [-1.2146, -0.0966,  0.3722,  ..., -1.0461, -0.6845, -0.4339],\n",
      "        ...,\n",
      "        [-1.2146, -0.0966, -2.6867,  ...,  1.0548,  0.9887,  1.4635],\n",
      "        [-1.2146,  1.1373, -2.6867,  ..., -1.0461,  0.4310, -0.4339],\n",
      "        [-1.2146, -0.0966, -2.6867,  ..., -1.4169,  0.4310, -0.4339]])\n"
     ]
    }
   ],
   "source": [
    "exp1 = Experiment(\n",
    "                \"test\",\n",
    "                \"../../data/\",\n",
    "                rq_configs,\n",
    "                n_runs=30, \n",
    "                log=True, \n",
    "                verbose = True,\n",
    "                config_counter_start=config_counter\n",
    "                )\n",
    "exp1.run()"
   ]
  }
 ],
 "metadata": {
  "kernelspec": {
   "display_name": "Python 3",
   "language": "python",
   "name": "python3"
  },
  "language_info": {
   "codemirror_mode": {
    "name": "ipython",
    "version": 3
   },
   "file_extension": ".py",
   "mimetype": "text/x-python",
   "name": "python",
   "nbconvert_exporter": "python",
   "pygments_lexer": "ipython3",
   "version": "3.11.4"
  }
 },
 "nbformat": 4,
 "nbformat_minor": 2
}
