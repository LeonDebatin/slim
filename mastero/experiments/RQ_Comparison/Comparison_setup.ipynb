{
 "cells": [
  {
   "cell_type": "code",
   "execution_count": 1,
   "metadata": {},
   "outputs": [],
   "source": [
    "# how does slim perfrom comapred to gp and gsgp?"
   ]
  },
  {
   "cell_type": "code",
   "execution_count": 2,
   "metadata": {},
   "outputs": [],
   "source": [
    "import sys\n",
    "import os\n",
    "sys.path.insert(0, os.path.abspath(\"..\"))\n",
    "import copy\n",
    "\n",
    "from monte_carlo import MonteCarlo\n",
    "from experiment import Experiment\n",
    "from basic_model_config import *\n",
    "from utils import fill_config"
   ]
  },
  {
   "cell_type": "code",
   "execution_count": 3,
   "metadata": {},
   "outputs": [
    {
     "name": "stdout",
     "output_type": "stream",
     "text": [
      "gp\n"
     ]
    }
   ],
   "source": [
    "import copy\n",
    "rq_configs = []\n",
    "base_configs = [basic_model_config_gp]\n",
    "\n",
    "for baseconfig in base_configs:\n",
    "        config = copy.deepcopy(baseconfig)\n",
    "        config = fill_config(config, oversampling= False, fitness_function='sigmoid_rmse', minimization=True, inflation_rate=None, ms_upper=None)\n",
    "        rq_configs.append(config)\n",
    "\n",
    "for config in rq_configs:\n",
    "        print(config['name'])\n"
   ]
  },
  {
   "cell_type": "code",
   "execution_count": 4,
   "metadata": {},
   "outputs": [],
   "source": [
    "with open(\"../RQ_Fitness/n_configs.txt\", \"r\") as f:\n",
    "    config_counter1 = int(f.read())\n",
    "config_counter1\n",
    "\n",
    "with open(\"../RQ_Inflationrate/n_configs.txt\", \"r\") as f:\n",
    "    config_counter2 = int(f.read())\n",
    "    \n",
    "config_counter = config_counter1 + config_counter2"
   ]
  },
  {
   "cell_type": "code",
   "execution_count": 5,
   "metadata": {},
   "outputs": [
    {
     "name": "stdout",
     "output_type": "stream",
     "text": [
      "Results are being logged in the following path:  ../../data/results/comparison/auction\n",
      "Running gp on auction...\n",
      "Run 1 - Accuracy: 0.929 | 0.912 - ROC: 0.752 | 0.697 - F1: 0.636 | 0.5 - RMSE: 0.268 | 0.296 - Weighted RMSE: 0.505 | 0.572\n",
      "Run 2 - Accuracy: 0.929 | 0.936 - ROC: 0.877 | 0.886 - F1: 0.677 | 0.707 - RMSE: 0.263 | 0.246 - Weighted RMSE: 0.461 | 0.447\n",
      "Run 3 - Accuracy: 0.927 | 0.922 - ROC: 0.842 | 0.833 - F1: 0.639 | 0.607 - RMSE: 0.264 | 0.271 - Weighted RMSE: 0.467 | 0.487\n",
      "Run 4 - Accuracy: 0.93 | 0.922 - ROC: 0.787 | 0.798 - F1: 0.671 | 0.657 - RMSE: 0.261 | 0.271 - Weighted RMSE: 0.471 | 0.466\n",
      "Run 5 - Accuracy: 0.932 | 0.94 - ROC: 0.83 | 0.854 - F1: 0.678 | 0.722 - RMSE: 0.251 | 0.239 - Weighted RMSE: 0.464 | 0.44\n",
      "Run 6 - Accuracy: 0.934 | 0.931 - ROC: 0.888 | 0.886 - F1: 0.704 | 0.72 - RMSE: 0.242 | 0.25 - Weighted RMSE: 0.406 | 0.386\n",
      "Run 7 - Accuracy: 0.915 | 0.905 - ROC: 0.796 | 0.806 - F1: 0.643 | 0.592 - RMSE: 0.271 | 0.28 - Weighted RMSE: 0.438 | 0.46\n",
      "Run 8 - Accuracy: 0.93 | 0.923 - ROC: 0.858 | 0.84 - F1: 0.664 | 0.605 - RMSE: 0.245 | 0.251 - Weighted RMSE: 0.42 | 0.456\n",
      "Results are being logged in the following path:  ../../data/results/comparison/autism\n",
      "Running gp on autism...\n",
      "Run 1 - Accuracy: 1.0 | 1.0 - ROC: 1.0 | 1.0 - F1: 1.0 | 1.0 - RMSE: 0.0 | 0.0 - Weighted RMSE: 0.0 | 0.0\n",
      "Run 2 - Accuracy: 1.0 | 1.0 - ROC: 1.0 | 1.0 - F1: 1.0 | 1.0 - RMSE: 0.0 | 0.0 - Weighted RMSE: 0.0 | 0.0\n",
      "Run 3 - Accuracy: 1.0 | 1.0 - ROC: 1.0 | 1.0 - F1: 1.0 | 1.0 - RMSE: 0.0 | 0.0 - Weighted RMSE: 0.0 | 0.0\n",
      "Run 4 - Accuracy: 1.0 | 1.0 - ROC: 1.0 | 1.0 - F1: 1.0 | 1.0 - RMSE: 0.0 | 0.0 - Weighted RMSE: 0.0 | 0.0\n",
      "Run 5 - Accuracy: 1.0 | 1.0 - ROC: 1.0 | 1.0 - F1: 1.0 | 1.0 - RMSE: 0.0 | 0.0 - Weighted RMSE: 0.0 | 0.0\n",
      "Run 6 - Accuracy: 1.0 | 1.0 - ROC: 1.0 | 1.0 - F1: 1.0 | 1.0 - RMSE: 0.0 | 0.0 - Weighted RMSE: 0.0 | 0.0\n",
      "Run 7 - Accuracy: 1.0 | 1.0 - ROC: 1.0 | 1.0 - F1: 1.0 | 1.0 - RMSE: 0.0 | 0.0 - Weighted RMSE: 0.0 | 0.0\n",
      "Run 8 - Accuracy: 1.0 | 1.0 - ROC: 1.0 | 1.0 - F1: 1.0 | 1.0 - RMSE: 0.0 | 0.0 - Weighted RMSE: 0.0 | 0.0\n",
      "Results are being logged in the following path:  ../../data/results/comparison/biomed\n",
      "Running gp on biomed...\n",
      "Run 1 - Accuracy: 0.945 | 0.857 - ROC: 0.955 | 0.851 - F1: 0.918 | 0.791 - RMSE: 0.209 | 0.361 - Weighted RMSE: 0.237 | 0.395\n",
      "Run 2 - Accuracy: 0.959 | 0.825 - ROC: 0.977 | 0.853 - F1: 0.94 | 0.718 - RMSE: 0.196 | 0.396 - Weighted RMSE: 0.221 | 0.446\n",
      "Run 3 - Accuracy: 0.945 | 0.873 - ROC: 0.946 | 0.92 - F1: 0.92 | 0.789 - RMSE: 0.223 | 0.327 - Weighted RMSE: 0.256 | 0.387\n",
      "Run 4 - Accuracy: 0.945 | 0.857 - ROC: 0.928 | 0.926 - F1: 0.917 | 0.809 - RMSE: 0.234 | 0.363 - Weighted RMSE: 0.277 | 0.377\n",
      "Run 5 - Accuracy: 0.952 | 0.841 - ROC: 0.935 | 0.925 - F1: 0.928 | 0.773 - RMSE: 0.22 | 0.379 - Weighted RMSE: 0.26 | 0.408\n",
      "Run 6 - Accuracy: 0.918 | 0.905 - ROC: 0.949 | 0.938 - F1: 0.872 | 0.857 - RMSE: 0.265 | 0.261 - Weighted RMSE: 0.297 | 0.294\n",
      "Run 7 - Accuracy: 0.952 | 0.873 - ROC: 0.959 | 0.914 - F1: 0.928 | 0.81 - RMSE: 0.208 | 0.343 - Weighted RMSE: 0.242 | 0.379\n",
      "Run 8 - Accuracy: 0.938 | 0.841 - ROC: 0.975 | 0.901 - F1: 0.909 | 0.783 - RMSE: 0.237 | 0.337 - Weighted RMSE: 0.257 | 0.356\n",
      "Results are being logged in the following path:  ../../data/results/comparison/credit\n",
      "Running gp on credit...\n",
      "Run 1 - Accuracy: 0.808 | 0.787 - ROC: 0.567 | 0.462 - F1: 0.096 | 0.0 - RMSE: 0.39 | 0.415 - Weighted RMSE: 0.566 | 0.593\n",
      "Run 2 - Accuracy: 0.807 | 0.805 - ROC: 0.7 | 0.629 - F1: 0.073 | 0.057 - RMSE: 0.381 | 0.392 - Weighted RMSE: 0.545 | 0.57\n",
      "Run 3 - Accuracy: 0.803 | 0.799 - ROC: 0.672 | 0.628 - F1: 0.025 | 0.0 - RMSE: 0.386 | 0.395 - Weighted RMSE: 0.555 | 0.57\n",
      "Run 4 - Accuracy: 0.803 | 0.799 - ROC: 0.688 | 0.587 - F1: 0.025 | 0.0 - RMSE: 0.384 | 0.402 - Weighted RMSE: 0.555 | 0.583\n",
      "Run 5 - Accuracy: 0.807 | 0.793 - ROC: 0.597 | 0.472 - F1: 0.062 | 0.028 - RMSE: 0.39 | 0.414 - Weighted RMSE: 0.569 | 0.597\n",
      "Run 6 - Accuracy: 0.813 | 0.781 - ROC: 0.684 | 0.622 - F1: 0.179 | 0.119 - RMSE: 0.38 | 0.407 - Weighted RMSE: 0.549 | 0.571\n",
      "Run 7 - Accuracy: 0.804 | 0.787 - ROC: 0.701 | 0.567 - F1: 0.049 | 0.0 - RMSE: 0.383 | 0.412 - Weighted RMSE: 0.556 | 0.59\n",
      "Run 8 - Accuracy: 0.801 | 0.796 - ROC: 0.723 | 0.543 - F1: 0.025 | 0.0 - RMSE: 0.378 | 0.417 - Weighted RMSE: 0.544 | 0.607\n",
      "Results are being logged in the following path:  ../../data/results/comparison/darwin\n",
      "Running gp on darwin...\n",
      "Run 1 - Accuracy: 0.876 | 0.755 - ROC: 0.945 | 0.778 - F1: 0.88 | 0.772 - RMSE: 0.3 | 0.442 - Weighted RMSE: 0.299 | 0.44\n",
      "Run 2 - Accuracy: 0.926 | 0.811 - ROC: 0.972 | 0.853 - F1: 0.926 | 0.833 - RMSE: 0.234 | 0.414 - Weighted RMSE: 0.233 | 0.411\n",
      "Run 3 - Accuracy: 0.975 | 0.698 - ROC: 0.996 | 0.821 - F1: 0.974 | 0.667 - RMSE: 0.166 | 0.488 - Weighted RMSE: 0.166 | 0.49\n",
      "Run 4 - Accuracy: 0.884 | 0.717 - ROC: 0.946 | 0.781 - F1: 0.883 | 0.727 - RMSE: 0.3 | 0.461 - Weighted RMSE: 0.3 | 0.459\n",
      "Run 5 - Accuracy: 0.884 | 0.792 - ROC: 0.952 | 0.875 - F1: 0.892 | 0.8 - RMSE: 0.297 | 0.381 - Weighted RMSE: 0.295 | 0.379\n",
      "Run 6 - Accuracy: 0.934 | 0.774 - ROC: 0.97 | 0.852 - F1: 0.932 | 0.793 - RMSE: 0.218 | 0.41 - Weighted RMSE: 0.217 | 0.408\n",
      "Run 7 - Accuracy: 0.95 | 0.868 - ROC: 0.97 | 0.905 - F1: 0.95 | 0.873 - RMSE: 0.229 | 0.331 - Weighted RMSE: 0.229 | 0.33\n",
      "Run 8 - Accuracy: 0.95 | 0.792 - ROC: 0.981 | 0.873 - F1: 0.948 | 0.776 - RMSE: 0.233 | 0.384 - Weighted RMSE: 0.234 | 0.385\n",
      "Results are being logged in the following path:  ../../data/results/comparison/heart\n",
      "Running gp on heart...\n",
      "Run 1 - Accuracy: 0.89 | 0.778 - ROC: 0.936 | 0.833 - F1: 0.83 | 0.643 - RMSE: 0.29 | 0.405 - Weighted RMSE: 0.318 | 0.449\n",
      "Run 2 - Accuracy: 0.828 | 0.844 - ROC: 0.884 | 0.854 - F1: 0.71 | 0.72 - RMSE: 0.348 | 0.374 - Weighted RMSE: 0.398 | 0.43\n",
      "Run 3 - Accuracy: 0.852 | 0.856 - ROC: 0.891 | 0.919 - F1: 0.752 | 0.78 - RMSE: 0.338 | 0.326 - Weighted RMSE: 0.369 | 0.335\n",
      "Run 4 - Accuracy: 0.871 | 0.744 - ROC: 0.913 | 0.826 - F1: 0.777 | 0.623 - RMSE: 0.321 | 0.412 - Weighted RMSE: 0.348 | 0.418\n",
      "Run 5 - Accuracy: 0.885 | 0.822 - ROC: 0.913 | 0.878 - F1: 0.81 | 0.742 - RMSE: 0.319 | 0.368 - Weighted RMSE: 0.346 | 0.371\n",
      "Run 6 - Accuracy: 0.856 | 0.878 - ROC: 0.906 | 0.934 - F1: 0.758 | 0.792 - RMSE: 0.332 | 0.309 - Weighted RMSE: 0.365 | 0.333\n",
      "Run 7 - Accuracy: 0.909 | 0.778 - ROC: 0.941 | 0.81 - F1: 0.84 | 0.63 - RMSE: 0.283 | 0.414 - Weighted RMSE: 0.322 | 0.446\n",
      "Run 8 - Accuracy: 0.852 | 0.822 - ROC: 0.91 | 0.797 - F1: 0.76 | 0.692 - RMSE: 0.326 | 0.402 - Weighted RMSE: 0.359 | 0.447\n",
      "Results are being logged in the following path:  ../../data/results/comparison/pc4\n",
      "Running gp on pc4...\n",
      "Run 1 - Accuracy: 0.907 | 0.901 - ROC: 0.874 | 0.83 - F1: 0.53 | 0.444 - RMSE: 0.269 | 0.286 - Weighted RMSE: 0.463 | 0.503\n",
      "Run 2 - Accuracy: 0.914 | 0.889 - ROC: 0.896 | 0.877 - F1: 0.567 | 0.516 - RMSE: 0.263 | 0.288 - Weighted RMSE: 0.45 | 0.444\n",
      "Run 3 - Accuracy: 0.896 | 0.876 - ROC: 0.919 | 0.908 - F1: 0.524 | 0.359 - RMSE: 0.27 | 0.29 - Weighted RMSE: 0.443 | 0.487\n",
      "Run 4 - Accuracy: 0.905 | 0.886 - ROC: 0.817 | 0.829 - F1: 0.497 | 0.395 - RMSE: 0.278 | 0.301 - Weighted RMSE: 0.488 | 0.504\n",
      "Run 5 - Accuracy: 0.915 | 0.886 - ROC: 0.912 | 0.792 - F1: 0.6 | 0.477 - RMSE: 0.257 | 0.301 - Weighted RMSE: 0.442 | 0.501\n",
      "Run 6 - Accuracy: 0.899 | 0.899 - ROC: 0.911 | 0.888 - F1: 0.527 | 0.518 - RMSE: 0.271 | 0.279 - Weighted RMSE: 0.431 | 0.454\n",
      "Run 7 - Accuracy: 0.896 | 0.903 - ROC: 0.862 | 0.883 - F1: 0.424 | 0.494 - RMSE: 0.286 | 0.272 - Weighted RMSE: 0.496 | 0.47\n",
      "Run 8 - Accuracy: 0.906 | 0.894 - ROC: 0.903 | 0.834 - F1: 0.516 | 0.427 - RMSE: 0.261 | 0.284 - Weighted RMSE: 0.452 | 0.492\n",
      "Results are being logged in the following path:  ../../data/results/comparison/thyroid\n",
      "Running gp on thyroid...\n",
      "Run 1 - Accuracy: 0.972 | 0.918 - ROC: 0.994 | 0.954 - F1: 0.951 | 0.847 - RMSE: 0.131 | 0.25 - Weighted RMSE: 0.163 | 0.307\n",
      "Run 2 - Accuracy: 0.972 | 0.964 - ROC: 0.992 | 0.925 - F1: 0.951 | 0.938 - RMSE: 0.146 | 0.198 - Weighted RMSE: 0.177 | 0.232\n",
      "Run 3 - Accuracy: 0.984 | 0.882 - ROC: 0.994 | 0.882 - F1: 0.973 | 0.8 - RMSE: 0.127 | 0.329 - Weighted RMSE: 0.151 | 0.37\n",
      "Run 4 - Accuracy: 0.965 | 0.964 - ROC: 0.974 | 0.985 - F1: 0.936 | 0.938 - RMSE: 0.174 | 0.193 - Weighted RMSE: 0.223 | 0.228\n",
      "Run 5 - Accuracy: 0.98 | 0.936 - ROC: 0.984 | 0.929 - F1: 0.966 | 0.896 - RMSE: 0.141 | 0.236 - Weighted RMSE: 0.159 | 0.256\n",
      "Run 6 - Accuracy: 0.992 | 0.936 - ROC: 0.997 | 0.972 - F1: 0.987 | 0.889 - RMSE: 0.089 | 0.238 - Weighted RMSE: 0.101 | 0.279\n",
      "Run 7 - Accuracy: 0.984 | 0.909 - ROC: 0.988 | 0.921 - F1: 0.973 | 0.828 - RMSE: 0.113 | 0.273 - Weighted RMSE: 0.141 | 0.34\n",
      "Run 8 - Accuracy: 0.98 | 0.955 - ROC: 0.995 | 0.978 - F1: 0.966 | 0.921 - RMSE: 0.127 | 0.197 - Weighted RMSE: 0.149 | 0.243\n",
      "Results are being logged in the following path:  ../../data/results/comparison/wilt\n",
      "Running gp on wilt...\n",
      "Run 1 - Accuracy: 0.983 | 0.983 - ROC: 0.993 | 0.989 - F1: 0.0 | 0.0 - RMSE: 0.095 | 0.101 - Weighted RMSE: 0.489 | 0.491\n",
      "Run 2 - Accuracy: 0.995 | 0.992 - ROC: 0.958 | 0.935 - F1: 0.833 | 0.703 - RMSE: 0.066 | 0.081 - Weighted RMSE: 0.281 | 0.374\n",
      "Run 3 - Accuracy: 0.996 | 0.997 - ROC: 0.986 | 0.997 - F1: 0.88 | 0.909 - RMSE: 0.07 | 0.067 - Weighted RMSE: 0.273 | 0.216\n",
      "Run 4 - Accuracy: 0.996 | 0.997 - ROC: 0.997 | 0.998 - F1: 0.882 | 0.909 - RMSE: 0.063 | 0.059 - Weighted RMSE: 0.243 | 0.212\n",
      "Run 5 - Accuracy: 0.993 | 0.994 - ROC: 0.929 | 0.917 - F1: 0.828 | 0.833 - RMSE: 0.079 | 0.081 - Weighted RMSE: 0.218 | 0.224\n",
      "Run 6 - Accuracy: 0.996 | 0.992 - ROC: 0.998 | 0.999 - F1: 0.893 | 0.792 - RMSE: 0.063 | 0.066 - Weighted RMSE: 0.225 | 0.192\n",
      "Run 7 - Accuracy: 0.984 | 0.983 - ROC: 0.485 | 0.443 - F1: 0.109 | 0.0 - RMSE: 0.127 | 0.129 - Weighted RMSE: 0.68 | 0.694\n",
      "Run 8 - Accuracy: 0.993 | 0.992 - ROC: 0.998 | 0.999 - F1: 0.759 | 0.706 - RMSE: 0.077 | 0.073 - Weighted RMSE: 0.339 | 0.346\n",
      "Results are being logged in the following path:  ../../data/results/comparison/wisconsin\n",
      "Running gp on wisconsin...\n",
      "Run 1 - Accuracy: 0.966 | 0.935 - ROC: 0.987 | 0.994 - F1: 0.964 | 0.935 - RMSE: 0.173 | 0.21 - Weighted RMSE: 0.174 | 0.209\n",
      "Run 2 - Accuracy: 0.978 | 0.899 - ROC: 0.991 | 0.975 - F1: 0.978 | 0.894 - RMSE: 0.126 | 0.284 - Weighted RMSE: 0.127 | 0.285\n",
      "Run 3 - Accuracy: 0.978 | 0.921 - ROC: 0.993 | 0.97 - F1: 0.977 | 0.917 - RMSE: 0.14 | 0.26 - Weighted RMSE: 0.142 | 0.262\n",
      "Run 4 - Accuracy: 0.975 | 0.899 - ROC: 0.99 | 0.944 - F1: 0.974 | 0.891 - RMSE: 0.161 | 0.292 - Weighted RMSE: 0.163 | 0.295\n",
      "Run 5 - Accuracy: 0.985 | 0.928 - ROC: 0.995 | 0.929 - F1: 0.984 | 0.922 - RMSE: 0.115 | 0.273 - Weighted RMSE: 0.116 | 0.277\n",
      "Run 6 - Accuracy: 0.975 | 0.921 - ROC: 0.992 | 0.978 - F1: 0.974 | 0.917 - RMSE: 0.142 | 0.274 - Weighted RMSE: 0.143 | 0.276\n",
      "Run 7 - Accuracy: 0.966 | 0.935 - ROC: 0.992 | 0.982 - F1: 0.965 | 0.931 - RMSE: 0.163 | 0.235 - Weighted RMSE: 0.165 | 0.238\n",
      "Run 8 - Accuracy: 0.988 | 0.906 - ROC: 0.995 | 0.972 - F1: 0.987 | 0.899 - RMSE: 0.113 | 0.302 - Weighted RMSE: 0.115 | 0.305\n"
     ]
    }
   ],
   "source": [
    "exp1 = Experiment(\n",
    "                \"comparison\",\n",
    "                \"../../data/\",\n",
    "                rq_configs,\n",
    "                n_runs=8, \n",
    "                log=True, \n",
    "                verbose = True,\n",
    "                config_counter_start=config_counter\n",
    "                )\n",
    "exp1.run()"
   ]
  }
 ],
 "metadata": {
  "kernelspec": {
   "display_name": "Python 3",
   "language": "python",
   "name": "python3"
  },
  "language_info": {
   "codemirror_mode": {
    "name": "ipython",
    "version": 3
   },
   "file_extension": ".py",
   "mimetype": "text/x-python",
   "name": "python",
   "nbconvert_exporter": "python",
   "pygments_lexer": "ipython3",
   "version": "3.11.4"
  }
 },
 "nbformat": 4,
 "nbformat_minor": 2
}
