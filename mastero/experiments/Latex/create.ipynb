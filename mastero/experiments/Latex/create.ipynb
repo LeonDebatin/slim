{
 "cells": [
  {
   "cell_type": "code",
   "execution_count": 2,
   "id": "39269df3",
   "metadata": {},
   "outputs": [
    {
     "name": "stdout",
     "output_type": "stream",
     "text": [
      "LaTeX document generated: results.tex\n"
     ]
    }
   ],
   "source": [
    "import os\n",
    "\n",
    "# Configuration\n",
    "target_directory1 = \"../Latex/Chapters/Figures/Results/\"  # change if needed\n",
    "output_file = \"results.tex\"\n",
    "\n",
    "tex_files = []\n",
    "for root, dirs, files in os.walk(target_directory1):\n",
    "    for file in files:\n",
    "        if file.endswith(\".tex\"):\n",
    "            full_path = os.path.join(root, file)\n",
    "            relative_path = os.path.relpath(full_path, os.path.dirname(output_file))\n",
    "            tex_files.append(relative_path.replace(\"\\\\\", \"/\"))  # Use forward slashes for LaTeX\n",
    "\n",
    "target_directory2 = \"../Latex/Chapters/Tables/Results/\"\n",
    "for root, dirs, files in os.walk(target_directory2):\n",
    "    for file in files:\n",
    "        if file.endswith(\".tex\"):\n",
    "            full_path = os.path.join(root, file)\n",
    "            relative_path = os.path.relpath(full_path, os.path.dirname(output_file))\n",
    "            tex_files.append(relative_path.replace(\"\\\\\", \"/\"))\n",
    "\n",
    "\n",
    "with open(output_file, \"w\") as f:\n",
    "    f.write(\"\\\\documentclass{article}\\n\")\n",
    "    f.write(\"\\\\usepackage{booktabs}\\n\")\n",
    "    f.write(\"\\\\usepackage{graphicx}\\n\")\n",
    "    f.write(\"\\\\begin{document}\\n\\n\")\n",
    "    \n",
    "    for tex_path in tex_files:\n",
    "        f.write(f\"\\\\input{{{tex_path}}}\\n\")\n",
    "\n",
    "    f.write(\"\\n\\\\end{document}\\n\")\n",
    "\n",
    "print(f\"LaTeX document generated: {output_file}\")\n"
   ]
  }
 ],
 "metadata": {
  "kernelspec": {
   "display_name": "Python 3",
   "language": "python",
   "name": "python3"
  },
  "language_info": {
   "codemirror_mode": {
    "name": "ipython",
    "version": 3
   },
   "file_extension": ".py",
   "mimetype": "text/x-python",
   "name": "python",
   "nbconvert_exporter": "python",
   "pygments_lexer": "ipython3",
   "version": "3.11.4"
  }
 },
 "nbformat": 4,
 "nbformat_minor": 5
}
